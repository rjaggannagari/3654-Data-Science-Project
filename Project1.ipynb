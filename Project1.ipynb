{
 "cells": [
  {
   "cell_type": "markdown",
   "id": "8055a7c8",
   "metadata": {},
   "source": [
    "# Team Information"
   ]
  },
  {
   "attachments": {},
   "cell_type": "markdown",
   "id": "7a856461",
   "metadata": {},
   "source": [
    "Project Title: Data Analsyis on the Pokemon Pokedex\n",
    "\n",
    "Team Name: Team 6\n",
    "\n",
    "Member Names w/ PIDs: Rohan Jaggannagari (rjaggannagari), Jayanth Kalidindi (jayk21), Luke Hylton (lnhylton), Markus Homann (homann), Aniket Sonnakul (anikets)"
   ]
  },
  {
   "cell_type": "markdown",
   "id": "2a26fb61",
   "metadata": {},
   "source": [
    "## Project Introduction"
   ]
  },
  {
   "attachments": {},
   "cell_type": "markdown",
   "id": "70358f89",
   "metadata": {},
   "source": [
    "Description: In this project, we intend to scrape data from the internet on the Pokemon Pokedex and get a each Pokemon's weaknesses, strengths, statistics, and abilties. From there, we will merge additional data from the internet on specfic Pokemon to give us more information to work on. By the end of this project, we will be able to know which Pokemon types are the strongest, which abilties correlate with the best statistics, best Pokemon per type with/without legendary Pokemon. This information is useful since many of the digital Pokemon games are based on this information and doing data analysis on it will be useful to users to know which Pokemon fits their playstyles and strengths.\n",
    "\n",
    "Potential Research Questions: // Fill out later\n",
    "\n",
    "Potential Source Data: https://pokemondb.net/, https://www.serebii.net/pokemongo/pokemon/, https://db.pokemongohub.net/, https://www.kaggle.com/code/mmetter/pokemon-data-analysis-tutorial/input?select=pokemon.csv, https://www.kaggle.com/datasets/rounakbanik/pokemon?datasetId=2756"
   ]
  }
 ],
 "metadata": {
  "kernelspec": {
   "display_name": "Python 3 (ipykernel)",
   "language": "python",
   "name": "python3"
  },
  "language_info": {
   "codemirror_mode": {
    "name": "ipython",
    "version": 3
   },
   "file_extension": ".py",
   "mimetype": "text/x-python",
   "name": "python",
   "nbconvert_exporter": "python",
   "pygments_lexer": "ipython3",
   "version": "3.8.16"
  }
 },
 "nbformat": 4,
 "nbformat_minor": 5
}
