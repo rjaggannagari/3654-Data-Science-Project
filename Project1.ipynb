{
 "cells": [
  {
   "cell_type": "markdown",
   "id": "8055a7c8",
   "metadata": {},
   "source": [
    "# Team Information"
   ]
  },
  {
   "cell_type": "markdown",
   "id": "7a856461",
   "metadata": {},
   "source": [
    "Project Title: // Fill out later\n",
    "\n",
    "Team Name: // Fill out later\n",
    "\n",
    "Member Names w/ PIDs: Rohan Jaggannagari (rjaggannagari), Jayanth Kalidindi (jayk21), "
   ]
  },
  {
   "cell_type": "markdown",
   "id": "2a26fb61",
   "metadata": {},
   "source": [
    "## Project Introduction"
   ]
  },
  {
   "cell_type": "markdown",
   "id": "70358f89",
   "metadata": {},
   "source": [
    "Description: // Fill out later\n",
    "\n",
    "Potential Research Questions: // Fill out later\n",
    "\n",
    "Potential Source Data: // Fill out later"
   ]
  }
 ],
 "metadata": {
  "kernelspec": {
   "display_name": "Python 3 (ipykernel)",
   "language": "python",
   "name": "python3"
  },
  "language_info": {
   "codemirror_mode": {
    "name": "ipython",
    "version": 3
   },
   "file_extension": ".py",
   "mimetype": "text/x-python",
   "name": "python",
   "nbconvert_exporter": "python",
   "pygments_lexer": "ipython3",
   "version": "3.9.12"
  }
 },
 "nbformat": 4,
 "nbformat_minor": 5
}
