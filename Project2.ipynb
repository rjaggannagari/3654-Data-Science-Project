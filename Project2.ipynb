{
 "cells": [
  {
   "cell_type": "markdown",
   "id": "8055a7c8",
   "metadata": {},
   "source": [
    "# Team Information"
   ]
  },
  {
   "cell_type": "markdown",
   "id": "7a856461",
   "metadata": {},
   "source": [
    "Project Title: Data Analysis on the Pokémon Pokedex\n",
    "\n",
    "Team Name: Team 6\n",
    "\n",
    "Member Names w/ PIDs: Rohan Jaggannagari (rjaggannagari), Jayanth Kalidindi (jayk21), Luke Hylton (lnhylton), Markus Homann (homann), Aniket Sonnakul (anikets)"
   ]
  },
  {
   "cell_type": "markdown",
   "id": "e701ab85",
   "metadata": {},
   "source": [
    "# Contributions"
   ]
  },
  {
   "cell_type": "markdown",
   "id": "95b16879",
   "metadata": {},
   "source": [
    "Rohan Jaggannagari: Cleaned up and merged the datasets from Kaggle, PCA analysis/clustering/distance matrix on legendary Pokemon, correlation matrix for each base stat and generation, wrote code for similarity recomendation system\n",
    "\n",
    "Jayanth Kalidindi: Helped clean up and merge datasets and helped write/build similarity recommendation system with sliders. \n",
    "\n",
    "Luke Hylton: Wrote code and implemented weighted sliders recommedation system, worked on the report and data displays, and helped organize report for answering research questions\n",
    "\n",
    "Markus Homann: Worked on the report, analysis of Legendary data with respect to similarity between one another, and worked on the PCA analysis/ Clustering \n",
    "\n",
    "Aniket Sonnakul: Helped clean dataset and analyze categorical data, and consolidate/write QAC descriptions on report."
   ]
  },
  {
   "cell_type": "markdown",
   "id": "44858556",
   "metadata": {},
   "source": [
    "# Introduction\n",
    "The world of Pokemon has been around for decades and has made a large impact on the current school aged generation and continues to do so. There are many aspects to Pokemon from the TV series to the video games to the card game. This card game has a dedicated base of followers who tend to think about Pokemon beyond just the cute forms and their main attacks and look at their statistics. This allows them to develop much more comprehensive team strategies and more. We want to explore these statistics and ask questions that could help further the understanding of Pokemon and their relationships with their types and statistics."
   ]
  },
  {
   "cell_type": "markdown",
   "id": "c9991156",
   "metadata": {},
   "source": [
    "# Research Questions\n",
    "### 1. What Pokemon have the most similar statistics?\n",
    "### 2. What Pokemon fit certain statistics best?\n",
    "### 3. How do legendary Pokemon cluster depending on the number of clusters?\n",
    "### 4. Which types of Pokemon correlate with which attributes?\n",
    "### 5. How do different statistics correlate over different generations?\n",
    "### 6. Which Legendary Pokemon are most similar to each other?"
   ]
  },
  {
   "cell_type": "markdown",
   "id": "8c070e9b",
   "metadata": {},
   "source": [
    "# Using Data Science to Analyze Pokemon Data"
   ]
  },
  {
   "cell_type": "markdown",
   "id": "6c1c1386",
   "metadata": {},
   "source": [
    "To answer these questions, first we need to define the data collected. The primary dataset consists of each Pokemon from Generations 1-7 with their characteristics.\n",
    "\n",
    "The different characteristics of Pokemon that we are going to be looking at are: Name, Type1, Type2, Hp, Attack, Defense, Special Attack, Special Defense, Speed, Against Poison, Against Psychic, Against Rock, Against Steel, Against Water, Capture Rate, Experience Growth, Height (M), Percentage Male, Weight (Kg). \n",
    "\n",
    "The additional dataset shows each Pokemon’s abilities and how their types match up against other types. \n"
   ]
  },
  {
   "cell_type": "markdown",
   "id": "74b90374",
   "metadata": {},
   "source": [
    "First, we import several modules that will be used to extract, clean, and visualize the data, and then read in the datasets:"
   ]
  },
  {
   "cell_type": "markdown",
   "id": "204a7689",
   "metadata": {},
   "source": [
    "## Imports"
   ]
  },
  {
   "cell_type": "code",
   "execution_count": 1,
   "id": "a650fabd",
   "metadata": {},
   "outputs": [],
   "source": [
    "import pandas\n",
    "import numpy\n",
    "import IPython\n",
    "import sklearn.metrics.pairwise\n",
    "import sklearn.cluster\n",
    "import sklearn.decomposition\n",
    "import matplotlib\n",
    "import matplotlib.pyplot as plt\n",
    "import seaborn as sns\n",
    "import ipywidgets as widgets\n",
    "from sklearn.linear_model import LinearRegression\n",
    "from sklearn.preprocessing import LabelEncoder\n",
    "from IPython.display import display, clear_output"
   ]
  },
  {
   "cell_type": "markdown",
   "id": "8ab3062d",
   "metadata": {},
   "source": [
    "## Reading in data"
   ]
  },
  {
   "cell_type": "code",
   "execution_count": 2,
   "id": "c0a5718c",
   "metadata": {},
   "outputs": [
    {
     "name": "stdout",
     "output_type": "stream",
     "text": [
      "Shape of first dataset is (800, 12)\n",
      "Shape of second dataset is (801, 41)\n"
     ]
    }
   ],
   "source": [
    "# Read in the data\n",
    "pokemon_data_df = pandas.read_csv('pokemon_data.csv')\n",
    "pokemon_abilities_df = pandas.read_csv('pokemon_abilities.csv')\n",
    "\n",
    "# Output the shape of the data\n",
    "print(\"Shape of first dataset is \" + str(pokemon_data_df.shape))\n",
    "print(\"Shape of second dataset is \" + str(pokemon_abilities_df.shape))"
   ]
  },
  {
   "cell_type": "markdown",
   "id": "17cf5472",
   "metadata": {},
   "source": [
    "The data sets are cleaned for specific cases and then merged into a single dataframe."
   ]
  },
  {
   "cell_type": "markdown",
   "id": "bb99b30e",
   "metadata": {},
   "source": [
    "## Merge both datasets and then clean them"
   ]
  },
  {
   "cell_type": "code",
   "execution_count": 3,
   "id": "e824435b",
   "metadata": {},
   "outputs": [
    {
     "data": {
      "text/html": [
       "<div>\n",
       "<style scoped>\n",
       "    .dataframe tbody tr th:only-of-type {\n",
       "        vertical-align: middle;\n",
       "    }\n",
       "\n",
       "    .dataframe tbody tr th {\n",
       "        vertical-align: top;\n",
       "    }\n",
       "\n",
       "    .dataframe thead th {\n",
       "        text-align: right;\n",
       "    }\n",
       "</style>\n",
       "<table border=\"1\" class=\"dataframe\">\n",
       "  <thead>\n",
       "    <tr style=\"text-align: right;\">\n",
       "      <th></th>\n",
       "      <th>Pokedex Number</th>\n",
       "      <th>Name</th>\n",
       "      <th>Type 1</th>\n",
       "      <th>Type 2</th>\n",
       "      <th>Hp</th>\n",
       "      <th>Attack</th>\n",
       "      <th>Defense</th>\n",
       "      <th>Sp. Atk</th>\n",
       "      <th>Sp. Def</th>\n",
       "      <th>Speed</th>\n",
       "      <th>...</th>\n",
       "      <th>Against Poison</th>\n",
       "      <th>Against Psychic</th>\n",
       "      <th>Against Rock</th>\n",
       "      <th>Against Steel</th>\n",
       "      <th>Against Water</th>\n",
       "      <th>Capture Rate</th>\n",
       "      <th>Experience Growth</th>\n",
       "      <th>Height M</th>\n",
       "      <th>Percentage Male</th>\n",
       "      <th>Weight Kg</th>\n",
       "    </tr>\n",
       "  </thead>\n",
       "  <tbody>\n",
       "    <tr>\n",
       "      <th>0</th>\n",
       "      <td>1</td>\n",
       "      <td>Bulbasaur</td>\n",
       "      <td>Grass</td>\n",
       "      <td>Poison</td>\n",
       "      <td>45</td>\n",
       "      <td>49</td>\n",
       "      <td>49</td>\n",
       "      <td>65</td>\n",
       "      <td>65</td>\n",
       "      <td>45</td>\n",
       "      <td>...</td>\n",
       "      <td>1.0</td>\n",
       "      <td>2.0</td>\n",
       "      <td>1.0</td>\n",
       "      <td>1.0</td>\n",
       "      <td>0.5</td>\n",
       "      <td>45</td>\n",
       "      <td>1059860</td>\n",
       "      <td>0.7</td>\n",
       "      <td>88.1</td>\n",
       "      <td>6.9</td>\n",
       "    </tr>\n",
       "    <tr>\n",
       "      <th>1</th>\n",
       "      <td>2</td>\n",
       "      <td>Ivysaur</td>\n",
       "      <td>Grass</td>\n",
       "      <td>Poison</td>\n",
       "      <td>60</td>\n",
       "      <td>62</td>\n",
       "      <td>63</td>\n",
       "      <td>80</td>\n",
       "      <td>80</td>\n",
       "      <td>60</td>\n",
       "      <td>...</td>\n",
       "      <td>1.0</td>\n",
       "      <td>2.0</td>\n",
       "      <td>1.0</td>\n",
       "      <td>1.0</td>\n",
       "      <td>0.5</td>\n",
       "      <td>45</td>\n",
       "      <td>1059860</td>\n",
       "      <td>1.0</td>\n",
       "      <td>88.1</td>\n",
       "      <td>13.0</td>\n",
       "    </tr>\n",
       "    <tr>\n",
       "      <th>2</th>\n",
       "      <td>3</td>\n",
       "      <td>Venusaur</td>\n",
       "      <td>Grass</td>\n",
       "      <td>Poison</td>\n",
       "      <td>80</td>\n",
       "      <td>82</td>\n",
       "      <td>83</td>\n",
       "      <td>100</td>\n",
       "      <td>100</td>\n",
       "      <td>80</td>\n",
       "      <td>...</td>\n",
       "      <td>1.0</td>\n",
       "      <td>2.0</td>\n",
       "      <td>1.0</td>\n",
       "      <td>1.0</td>\n",
       "      <td>0.5</td>\n",
       "      <td>45</td>\n",
       "      <td>1059860</td>\n",
       "      <td>2.0</td>\n",
       "      <td>88.1</td>\n",
       "      <td>100.0</td>\n",
       "    </tr>\n",
       "    <tr>\n",
       "      <th>3</th>\n",
       "      <td>4</td>\n",
       "      <td>Charmander</td>\n",
       "      <td>Fire</td>\n",
       "      <td>NaN</td>\n",
       "      <td>39</td>\n",
       "      <td>52</td>\n",
       "      <td>43</td>\n",
       "      <td>60</td>\n",
       "      <td>50</td>\n",
       "      <td>65</td>\n",
       "      <td>...</td>\n",
       "      <td>1.0</td>\n",
       "      <td>1.0</td>\n",
       "      <td>2.0</td>\n",
       "      <td>0.5</td>\n",
       "      <td>2.0</td>\n",
       "      <td>45</td>\n",
       "      <td>1059860</td>\n",
       "      <td>0.6</td>\n",
       "      <td>88.1</td>\n",
       "      <td>8.5</td>\n",
       "    </tr>\n",
       "    <tr>\n",
       "      <th>4</th>\n",
       "      <td>5</td>\n",
       "      <td>Charmeleon</td>\n",
       "      <td>Fire</td>\n",
       "      <td>NaN</td>\n",
       "      <td>58</td>\n",
       "      <td>64</td>\n",
       "      <td>58</td>\n",
       "      <td>80</td>\n",
       "      <td>65</td>\n",
       "      <td>80</td>\n",
       "      <td>...</td>\n",
       "      <td>1.0</td>\n",
       "      <td>1.0</td>\n",
       "      <td>2.0</td>\n",
       "      <td>0.5</td>\n",
       "      <td>2.0</td>\n",
       "      <td>45</td>\n",
       "      <td>1059860</td>\n",
       "      <td>1.1</td>\n",
       "      <td>88.1</td>\n",
       "      <td>19.0</td>\n",
       "    </tr>\n",
       "  </tbody>\n",
       "</table>\n",
       "<p>5 rows × 36 columns</p>\n",
       "</div>"
      ],
      "text/plain": [
       "   Pokedex Number        Name Type 1  Type 2  Hp  Attack  Defense  Sp. Atk  \\\n",
       "0               1   Bulbasaur  Grass  Poison  45      49       49       65   \n",
       "1               2     Ivysaur  Grass  Poison  60      62       63       80   \n",
       "2               3    Venusaur  Grass  Poison  80      82       83      100   \n",
       "3               4  Charmander   Fire     NaN  39      52       43       60   \n",
       "4               5  Charmeleon   Fire     NaN  58      64       58       80   \n",
       "\n",
       "   Sp. Def  Speed  ...  Against Poison  Against Psychic Against Rock  \\\n",
       "0       65     45  ...             1.0              2.0          1.0   \n",
       "1       80     60  ...             1.0              2.0          1.0   \n",
       "2      100     80  ...             1.0              2.0          1.0   \n",
       "3       50     65  ...             1.0              1.0          2.0   \n",
       "4       65     80  ...             1.0              1.0          2.0   \n",
       "\n",
       "   Against Steel  Against Water  Capture Rate  Experience Growth  Height M  \\\n",
       "0            1.0            0.5            45            1059860       0.7   \n",
       "1            1.0            0.5            45            1059860       1.0   \n",
       "2            1.0            0.5            45            1059860       2.0   \n",
       "3            0.5            2.0            45            1059860       0.6   \n",
       "4            0.5            2.0            45            1059860       1.1   \n",
       "\n",
       "   Percentage Male  Weight Kg  \n",
       "0             88.1        6.9  \n",
       "1             88.1       13.0  \n",
       "2             88.1      100.0  \n",
       "3             88.1        8.5  \n",
       "4             88.1       19.0  \n",
       "\n",
       "[5 rows x 36 columns]"
      ]
     },
     "execution_count": 3,
     "metadata": {},
     "output_type": "execute_result"
    }
   ],
   "source": [
    "# Some Pokemon in each dataset were named differently so I fixed it\n",
    "pokemon_data_df.loc[pokemon_data_df['Name'] == 'Ho-oh', 'Name'] = 'Ho-Oh'\n",
    "pokemon_data_df.loc[pokemon_data_df['Name'] == 'Landorus Therian Forme', 'Name'] = 'Landorus'\n",
    "pokemon_data_df.loc[pokemon_data_df['Name'] == 'Tornadus Therian Forme', 'Name'] = 'Tornadus'\n",
    "pokemon_data_df.loc[pokemon_data_df['Name'] == 'Thundurus Therian Forme', 'Name'] = 'Thundurus'\n",
    "pokemon_data_df.loc[pokemon_data_df['Name'] == 'Hoopa Confined', 'Name'] = 'Hoopa'\n",
    "\n",
    "# Move the name column to all the way to the left\n",
    "if \"name\" in pokemon_abilities_df.columns:\n",
    "    move_name = pokemon_abilities_df.pop('name')\n",
    "    pokemon_abilities_df.insert(0, 'Name', move_name)\n",
    "\n",
    "# Merged the two datasets and now have to clean it up so it is more readable\n",
    "pokemon_df = pandas.merge(pokemon_data_df, pokemon_abilities_df, on = 'Name', how = 'inner', indicator = True)\n",
    "pokemon_df = pokemon_df[pokemon_df['_merge'] == 'both']\n",
    "\n",
    "# We do not care about megas so the data from the second dataset number is better to index by\n",
    "move_pokedex_number = pokemon_df.pop('pokedex_number')\n",
    "pokemon_df.insert(0, 'Pokedex Number', move_pokedex_number)\n",
    "\n",
    "# Gets rid of the columns we are not using and the duplicates\n",
    "pokemon_df = pokemon_df.drop(['#', 'attack', 'base_egg_steps', 'base_happiness', 'base_total', 'classfication', 'defense', 'hp', 'japanese_name', 'sp_attack','sp_defense','speed','type1','type2','generation','is_legendary', '_merge'], axis = 1)\n",
    "\n",
    "# Format the names to be more uniform\n",
    "pokemon_df.columns = [underscore_rem.replace('_', ' ') for underscore_rem in pokemon_df.columns]\n",
    "pokemon_df.columns = [caps.title() for caps in pokemon_df.columns]\n",
    "\n",
    "pokemon_df.head(5)"
   ]
  },
  {
   "cell_type": "markdown",
   "id": "f8eeb83f",
   "metadata": {},
   "source": [
    "Above, we merged the two datasets and cleaned them so they are uniform. This will make it easier to analyze the data since it is readable. We output the first 5 from the data frame to show how it looks."
   ]
  },
  {
   "cell_type": "markdown",
   "id": "c2e0a527",
   "metadata": {},
   "source": [
    "Here we have to edit the type matchup data so the multipliers are more intuitive."
   ]
  },
  {
   "cell_type": "code",
   "execution_count": 34,
   "id": "91cf661e",
   "metadata": {
    "scrolled": true
   },
   "outputs": [
    {
     "data": {
      "text/html": [
       "<div>\n",
       "<style scoped>\n",
       "    .dataframe tbody tr th:only-of-type {\n",
       "        vertical-align: middle;\n",
       "    }\n",
       "\n",
       "    .dataframe tbody tr th {\n",
       "        vertical-align: top;\n",
       "    }\n",
       "\n",
       "    .dataframe thead th {\n",
       "        text-align: right;\n",
       "    }\n",
       "</style>\n",
       "<table border=\"1\" class=\"dataframe\">\n",
       "  <thead>\n",
       "    <tr style=\"text-align: right;\">\n",
       "      <th></th>\n",
       "      <th>Pokedex Number</th>\n",
       "      <th>Name</th>\n",
       "      <th>Type 1</th>\n",
       "      <th>Type 2</th>\n",
       "      <th>Hp</th>\n",
       "      <th>Attack</th>\n",
       "      <th>Defense</th>\n",
       "      <th>Sp. Atk</th>\n",
       "      <th>Sp. Def</th>\n",
       "      <th>Speed</th>\n",
       "      <th>...</th>\n",
       "      <th>Against Poison</th>\n",
       "      <th>Against Psychic</th>\n",
       "      <th>Against Rock</th>\n",
       "      <th>Against Steel</th>\n",
       "      <th>Against Water</th>\n",
       "      <th>Capture Rate</th>\n",
       "      <th>Experience Growth</th>\n",
       "      <th>Height M</th>\n",
       "      <th>Percentage Male</th>\n",
       "      <th>Weight Kg</th>\n",
       "    </tr>\n",
       "  </thead>\n",
       "  <tbody>\n",
       "    <tr>\n",
       "      <th>0</th>\n",
       "      <td>1</td>\n",
       "      <td>Bulbasaur</td>\n",
       "      <td>Grass</td>\n",
       "      <td>Poison</td>\n",
       "      <td>45</td>\n",
       "      <td>49</td>\n",
       "      <td>49</td>\n",
       "      <td>65</td>\n",
       "      <td>65</td>\n",
       "      <td>45</td>\n",
       "      <td>...</td>\n",
       "      <td>1.0</td>\n",
       "      <td>0.5</td>\n",
       "      <td>1.0</td>\n",
       "      <td>1.0</td>\n",
       "      <td>2.0</td>\n",
       "      <td>45</td>\n",
       "      <td>1059860</td>\n",
       "      <td>0.7</td>\n",
       "      <td>88.1</td>\n",
       "      <td>6.9</td>\n",
       "    </tr>\n",
       "    <tr>\n",
       "      <th>1</th>\n",
       "      <td>2</td>\n",
       "      <td>Ivysaur</td>\n",
       "      <td>Grass</td>\n",
       "      <td>Poison</td>\n",
       "      <td>60</td>\n",
       "      <td>62</td>\n",
       "      <td>63</td>\n",
       "      <td>80</td>\n",
       "      <td>80</td>\n",
       "      <td>60</td>\n",
       "      <td>...</td>\n",
       "      <td>1.0</td>\n",
       "      <td>0.5</td>\n",
       "      <td>1.0</td>\n",
       "      <td>1.0</td>\n",
       "      <td>2.0</td>\n",
       "      <td>45</td>\n",
       "      <td>1059860</td>\n",
       "      <td>1.0</td>\n",
       "      <td>88.1</td>\n",
       "      <td>13.0</td>\n",
       "    </tr>\n",
       "    <tr>\n",
       "      <th>2</th>\n",
       "      <td>3</td>\n",
       "      <td>Venusaur</td>\n",
       "      <td>Grass</td>\n",
       "      <td>Poison</td>\n",
       "      <td>80</td>\n",
       "      <td>82</td>\n",
       "      <td>83</td>\n",
       "      <td>100</td>\n",
       "      <td>100</td>\n",
       "      <td>80</td>\n",
       "      <td>...</td>\n",
       "      <td>1.0</td>\n",
       "      <td>0.5</td>\n",
       "      <td>1.0</td>\n",
       "      <td>1.0</td>\n",
       "      <td>2.0</td>\n",
       "      <td>45</td>\n",
       "      <td>1059860</td>\n",
       "      <td>2.0</td>\n",
       "      <td>88.1</td>\n",
       "      <td>100.0</td>\n",
       "    </tr>\n",
       "    <tr>\n",
       "      <th>3</th>\n",
       "      <td>4</td>\n",
       "      <td>Charmander</td>\n",
       "      <td>Fire</td>\n",
       "      <td>NaN</td>\n",
       "      <td>39</td>\n",
       "      <td>52</td>\n",
       "      <td>43</td>\n",
       "      <td>60</td>\n",
       "      <td>50</td>\n",
       "      <td>65</td>\n",
       "      <td>...</td>\n",
       "      <td>1.0</td>\n",
       "      <td>1.0</td>\n",
       "      <td>0.5</td>\n",
       "      <td>2.0</td>\n",
       "      <td>0.5</td>\n",
       "      <td>45</td>\n",
       "      <td>1059860</td>\n",
       "      <td>0.6</td>\n",
       "      <td>88.1</td>\n",
       "      <td>8.5</td>\n",
       "    </tr>\n",
       "    <tr>\n",
       "      <th>4</th>\n",
       "      <td>5</td>\n",
       "      <td>Charmeleon</td>\n",
       "      <td>Fire</td>\n",
       "      <td>NaN</td>\n",
       "      <td>58</td>\n",
       "      <td>64</td>\n",
       "      <td>58</td>\n",
       "      <td>80</td>\n",
       "      <td>65</td>\n",
       "      <td>80</td>\n",
       "      <td>...</td>\n",
       "      <td>1.0</td>\n",
       "      <td>1.0</td>\n",
       "      <td>0.5</td>\n",
       "      <td>2.0</td>\n",
       "      <td>0.5</td>\n",
       "      <td>45</td>\n",
       "      <td>1059860</td>\n",
       "      <td>1.1</td>\n",
       "      <td>88.1</td>\n",
       "      <td>19.0</td>\n",
       "    </tr>\n",
       "  </tbody>\n",
       "</table>\n",
       "<p>5 rows × 36 columns</p>\n",
       "</div>"
      ],
      "text/plain": [
       "   Pokedex Number        Name Type 1  Type 2  Hp  Attack  Defense  Sp. Atk  \\\n",
       "0               1   Bulbasaur  Grass  Poison  45      49       49       65   \n",
       "1               2     Ivysaur  Grass  Poison  60      62       63       80   \n",
       "2               3    Venusaur  Grass  Poison  80      82       83      100   \n",
       "3               4  Charmander   Fire     NaN  39      52       43       60   \n",
       "4               5  Charmeleon   Fire     NaN  58      64       58       80   \n",
       "\n",
       "   Sp. Def  Speed  ...  Against Poison  Against Psychic Against Rock  \\\n",
       "0       65     45  ...             1.0              0.5          1.0   \n",
       "1       80     60  ...             1.0              0.5          1.0   \n",
       "2      100     80  ...             1.0              0.5          1.0   \n",
       "3       50     65  ...             1.0              1.0          0.5   \n",
       "4       65     80  ...             1.0              1.0          0.5   \n",
       "\n",
       "   Against Steel  Against Water  Capture Rate  Experience Growth  Height M  \\\n",
       "0            1.0            2.0            45            1059860       0.7   \n",
       "1            1.0            2.0            45            1059860       1.0   \n",
       "2            1.0            2.0            45            1059860       2.0   \n",
       "3            2.0            0.5            45            1059860       0.6   \n",
       "4            2.0            0.5            45            1059860       1.1   \n",
       "\n",
       "   Percentage Male  Weight Kg  \n",
       "0             88.1        6.9  \n",
       "1             88.1       13.0  \n",
       "2             88.1      100.0  \n",
       "3             88.1        8.5  \n",
       "4             88.1       19.0  \n",
       "\n",
       "[5 rows x 36 columns]"
      ]
     },
     "execution_count": 34,
     "metadata": {},
     "output_type": "execute_result"
    }
   ],
   "source": [
    "multi = pokemon_df.copy()\n",
    "filterCols = [col for col in pokemon_df.columns if col.startswith('Against')]\n",
    "multi.loc[:, filterCols] = pokemon_df.loc[:, filterCols].apply(lambda x: 1 / x)\n",
    "# replace infinite values with 0\n",
    "multi = multi.replace(numpy.inf, 0.0)\n",
    "multi.head(5)"
   ]
  },
  {
   "cell_type": "markdown",
   "id": "e6f9794d",
   "metadata": {},
   "source": [
    "# What Pokemon have the most similar statistics?"
   ]
  },
  {
   "cell_type": "markdown",
   "id": "507a1b99",
   "metadata": {},
   "source": [
    "We want to find a Pokemon that has a high stat in a category that is lacking in the current lineup. This is also useful if we want to find a similar Pokemon to one in our squad but of a different type. For example, let's say you wanted to replace a Pokemon on your team with one that is faster but the other stats remain the same. This recommendation system makes that easy since you will be provided with a list of Pokemon. The second recommendation system is used to weigh specific stats like the Andromeda code we worked with in class. "
   ]
  },
  {
   "cell_type": "markdown",
   "id": "4bfaa7c7",
   "metadata": {},
   "source": [
    "## Similarity Sliders"
   ]
  },
  {
   "cell_type": "markdown",
   "id": "23dc6961",
   "metadata": {},
   "source": [
    "Each slider has a minimum value of 1 and a maximum value of 99 that can be chosen by the user. With the desired traits at their values, the recommendation system will rank Pokemons that are closest to the user’s inputs. We can hypothesize that the Pokemon which are ranked as most similar together will be closer together on a 2D visualization."
   ]
  },
  {
   "cell_type": "code",
   "execution_count": 5,
   "id": "a186a608",
   "metadata": {},
   "outputs": [
    {
     "name": "stdout",
     "output_type": "stream",
     "text": [
      "\n",
      "Set the sliders to the desired amount and the code below will output Pokemon that are most similar\n",
      "\n",
      "Note: These values are going to be used as %'s\n",
      "\n",
      "\n",
      "Choose a generation from 1 to 6, and choose 7 for all generations\n"
     ]
    },
    {
     "data": {
      "application/vnd.jupyter.widget-view+json": {
       "model_id": "bba089eae1264f85be4517fb54c2eee0",
       "version_major": 2,
       "version_minor": 0
      },
      "text/plain": [
       "IntSlider(value=1, description='Generation:', layout=Layout(width='75%'), max=7, min=1)"
      ]
     },
     "metadata": {},
     "output_type": "display_data"
    },
    {
     "data": {
      "application/vnd.jupyter.widget-view+json": {
       "model_id": "dba437f7dd324494bb99a4c874b3d5ab",
       "version_major": 2,
       "version_minor": 0
      },
      "text/plain": [
       "IntSlider(value=1, description='HP:', layout=Layout(width='75%'), max=99, min=1)"
      ]
     },
     "metadata": {},
     "output_type": "display_data"
    },
    {
     "data": {
      "application/vnd.jupyter.widget-view+json": {
       "model_id": "aa04cbed0cc14d72a97185f26dc7833f",
       "version_major": 2,
       "version_minor": 0
      },
      "text/plain": [
       "IntSlider(value=1, description='Attack:', layout=Layout(width='75%'), max=99, min=1)"
      ]
     },
     "metadata": {},
     "output_type": "display_data"
    },
    {
     "data": {
      "application/vnd.jupyter.widget-view+json": {
       "model_id": "106907d264c34d78b597c544547e1d69",
       "version_major": 2,
       "version_minor": 0
      },
      "text/plain": [
       "IntSlider(value=1, description='Defense:', layout=Layout(width='75%'), max=99, min=1)"
      ]
     },
     "metadata": {},
     "output_type": "display_data"
    },
    {
     "data": {
      "application/vnd.jupyter.widget-view+json": {
       "model_id": "a3acf7e470d04dd9a28cb1cb0a9edc3f",
       "version_major": 2,
       "version_minor": 0
      },
      "text/plain": [
       "IntSlider(value=1, description='Sp. Attack:', layout=Layout(width='75%'), max=99, min=1)"
      ]
     },
     "metadata": {},
     "output_type": "display_data"
    },
    {
     "data": {
      "application/vnd.jupyter.widget-view+json": {
       "model_id": "f70a6c7b5cd84d74b9254345f3101985",
       "version_major": 2,
       "version_minor": 0
      },
      "text/plain": [
       "IntSlider(value=1, description='Sp. Defense:', layout=Layout(width='75%'), max=99, min=1)"
      ]
     },
     "metadata": {},
     "output_type": "display_data"
    },
    {
     "data": {
      "application/vnd.jupyter.widget-view+json": {
       "model_id": "0be1bb72a630407496e9a5e055d3e956",
       "version_major": 2,
       "version_minor": 0
      },
      "text/plain": [
       "IntSlider(value=1, description='Speed:', layout=Layout(width='75%'), max=99, min=1)"
      ]
     },
     "metadata": {},
     "output_type": "display_data"
    }
   ],
   "source": [
    "# Making the sliders for each stat\n",
    "generation_slider = widgets.IntSlider(value = 1, min = 1, max = 7, step = 1, description = 'Generation:', description_width = 'auto')\n",
    "generation_slider.layout.width = '75%'\n",
    "hp_slider = widgets.IntSlider(value = 1, min = 1, max = 99, step = 1, description = 'HP:', description_width = 'auto')\n",
    "hp_slider.layout.width = '75%'\n",
    "attack_slider = widgets.IntSlider(value = 1, min = 1, max = 99, step = 1, description = 'Attack:', description_width = 'auto')\n",
    "attack_slider.layout.width = '75%'\n",
    "defense_slider = widgets.IntSlider(value = 1, min = 1, max = 99, step = 1, description = 'Defense:', description_width = 'auto')\n",
    "defense_slider.layout.width = '75%'\n",
    "sp_attack_slider = widgets.IntSlider(value = 1, min = 1, max = 99, step = 1, description = 'Sp. Attack:', description_width = 'auto')\n",
    "sp_attack_slider.layout.width = '75%'\n",
    "sp_defense_slider = widgets.IntSlider(value = 1, min = 1, max = 99, step = 1, description = 'Sp. Defense:', description_width = 'auto')\n",
    "sp_defense_slider.layout.width = '75%'\n",
    "speed_slider = widgets.IntSlider(value = 1, min = 1, max = 99, step = 1, description = 'Speed:', description_width = 'auto')\n",
    "speed_slider.layout.width = '75%'\n",
    "\n",
    "print(\"\\n\" + \"Set the sliders to the desired amount and the code below will output Pokemon that are most similar\" + \"\\n\")\n",
    "print(\"Note: These values are going to be used as %'s\" + \"\\n\" + \"\\n\")\n",
    "print(\"Choose a generation from 1 to 6, and choose 7 for all generations\")\n",
    "display(generation_slider, hp_slider, attack_slider, defense_slider, sp_attack_slider, sp_defense_slider, speed_slider)"
   ]
  },
  {
   "cell_type": "markdown",
   "id": "de92cd04",
   "metadata": {},
   "source": [
    "The slider will be used to show what you want the specfic stats at."
   ]
  },
  {
   "cell_type": "markdown",
   "id": "b527f669",
   "metadata": {},
   "source": [
    "## Similarity Recomendation System"
   ]
  },
  {
   "cell_type": "code",
   "execution_count": 6,
   "id": "b95c1962",
   "metadata": {},
   "outputs": [
    {
     "data": {
      "text/html": [
       "<div>\n",
       "<style scoped>\n",
       "    .dataframe tbody tr th:only-of-type {\n",
       "        vertical-align: middle;\n",
       "    }\n",
       "\n",
       "    .dataframe tbody tr th {\n",
       "        vertical-align: top;\n",
       "    }\n",
       "\n",
       "    .dataframe thead th {\n",
       "        text-align: right;\n",
       "    }\n",
       "</style>\n",
       "<table border=\"1\" class=\"dataframe\">\n",
       "  <thead>\n",
       "    <tr style=\"text-align: right;\">\n",
       "      <th></th>\n",
       "      <th>Name</th>\n",
       "      <th>Hp</th>\n",
       "      <th>Attack</th>\n",
       "      <th>Defense</th>\n",
       "      <th>Sp. Atk</th>\n",
       "      <th>Sp. Def</th>\n",
       "      <th>Speed</th>\n",
       "    </tr>\n",
       "    <tr>\n",
       "      <th>Rankings</th>\n",
       "      <th></th>\n",
       "      <th></th>\n",
       "      <th></th>\n",
       "      <th></th>\n",
       "      <th></th>\n",
       "      <th></th>\n",
       "      <th></th>\n",
       "    </tr>\n",
       "  </thead>\n",
       "  <tbody>\n",
       "    <tr>\n",
       "      <th>0</th>\n",
       "      <td>Caterpie</td>\n",
       "      <td>45</td>\n",
       "      <td>30</td>\n",
       "      <td>35</td>\n",
       "      <td>20</td>\n",
       "      <td>20</td>\n",
       "      <td>45</td>\n",
       "    </tr>\n",
       "    <tr>\n",
       "      <th>1</th>\n",
       "      <td>Weedle</td>\n",
       "      <td>40</td>\n",
       "      <td>35</td>\n",
       "      <td>30</td>\n",
       "      <td>20</td>\n",
       "      <td>20</td>\n",
       "      <td>50</td>\n",
       "    </tr>\n",
       "    <tr>\n",
       "      <th>2</th>\n",
       "      <td>Kakuna</td>\n",
       "      <td>45</td>\n",
       "      <td>25</td>\n",
       "      <td>50</td>\n",
       "      <td>25</td>\n",
       "      <td>25</td>\n",
       "      <td>35</td>\n",
       "    </tr>\n",
       "    <tr>\n",
       "      <th>3</th>\n",
       "      <td>Metapod</td>\n",
       "      <td>50</td>\n",
       "      <td>20</td>\n",
       "      <td>55</td>\n",
       "      <td>25</td>\n",
       "      <td>25</td>\n",
       "      <td>30</td>\n",
       "    </tr>\n",
       "    <tr>\n",
       "      <th>4</th>\n",
       "      <td>Zubat</td>\n",
       "      <td>40</td>\n",
       "      <td>45</td>\n",
       "      <td>35</td>\n",
       "      <td>30</td>\n",
       "      <td>40</td>\n",
       "      <td>55</td>\n",
       "    </tr>\n",
       "    <tr>\n",
       "      <th>5</th>\n",
       "      <td>Magikarp</td>\n",
       "      <td>20</td>\n",
       "      <td>10</td>\n",
       "      <td>55</td>\n",
       "      <td>15</td>\n",
       "      <td>20</td>\n",
       "      <td>80</td>\n",
       "    </tr>\n",
       "    <tr>\n",
       "      <th>6</th>\n",
       "      <td>Pidgey</td>\n",
       "      <td>40</td>\n",
       "      <td>45</td>\n",
       "      <td>40</td>\n",
       "      <td>35</td>\n",
       "      <td>35</td>\n",
       "      <td>56</td>\n",
       "    </tr>\n",
       "    <tr>\n",
       "      <th>7</th>\n",
       "      <td>Rattata</td>\n",
       "      <td>30</td>\n",
       "      <td>56</td>\n",
       "      <td>35</td>\n",
       "      <td>25</td>\n",
       "      <td>35</td>\n",
       "      <td>72</td>\n",
       "    </tr>\n",
       "    <tr>\n",
       "      <th>8</th>\n",
       "      <td>Nidoran♂</td>\n",
       "      <td>46</td>\n",
       "      <td>57</td>\n",
       "      <td>40</td>\n",
       "      <td>40</td>\n",
       "      <td>40</td>\n",
       "      <td>50</td>\n",
       "    </tr>\n",
       "    <tr>\n",
       "      <th>9</th>\n",
       "      <td>Nidoran♀</td>\n",
       "      <td>55</td>\n",
       "      <td>47</td>\n",
       "      <td>52</td>\n",
       "      <td>40</td>\n",
       "      <td>40</td>\n",
       "      <td>41</td>\n",
       "    </tr>\n",
       "    <tr>\n",
       "      <th>10</th>\n",
       "      <td>Spearow</td>\n",
       "      <td>40</td>\n",
       "      <td>60</td>\n",
       "      <td>30</td>\n",
       "      <td>31</td>\n",
       "      <td>31</td>\n",
       "      <td>70</td>\n",
       "    </tr>\n",
       "    <tr>\n",
       "      <th>11</th>\n",
       "      <td>Ditto</td>\n",
       "      <td>48</td>\n",
       "      <td>48</td>\n",
       "      <td>48</td>\n",
       "      <td>48</td>\n",
       "      <td>48</td>\n",
       "      <td>48</td>\n",
       "    </tr>\n",
       "    <tr>\n",
       "      <th>12</th>\n",
       "      <td>Ekans</td>\n",
       "      <td>35</td>\n",
       "      <td>60</td>\n",
       "      <td>44</td>\n",
       "      <td>40</td>\n",
       "      <td>54</td>\n",
       "      <td>55</td>\n",
       "    </tr>\n",
       "    <tr>\n",
       "      <th>13</th>\n",
       "      <td>Paras</td>\n",
       "      <td>35</td>\n",
       "      <td>70</td>\n",
       "      <td>55</td>\n",
       "      <td>45</td>\n",
       "      <td>55</td>\n",
       "      <td>25</td>\n",
       "    </tr>\n",
       "    <tr>\n",
       "      <th>14</th>\n",
       "      <td>Dratini</td>\n",
       "      <td>41</td>\n",
       "      <td>64</td>\n",
       "      <td>45</td>\n",
       "      <td>50</td>\n",
       "      <td>50</td>\n",
       "      <td>50</td>\n",
       "    </tr>\n",
       "  </tbody>\n",
       "</table>\n",
       "</div>"
      ],
      "text/plain": [
       "              Name  Hp  Attack  Defense  Sp. Atk  Sp. Def  Speed\n",
       "Rankings                                                        \n",
       "0         Caterpie  45      30       35       20       20     45\n",
       "1           Weedle  40      35       30       20       20     50\n",
       "2           Kakuna  45      25       50       25       25     35\n",
       "3          Metapod  50      20       55       25       25     30\n",
       "4            Zubat  40      45       35       30       40     55\n",
       "5         Magikarp  20      10       55       15       20     80\n",
       "6           Pidgey  40      45       40       35       35     56\n",
       "7          Rattata  30      56       35       25       35     72\n",
       "8         Nidoran♂  46      57       40       40       40     50\n",
       "9         Nidoran♀  55      47       52       40       40     41\n",
       "10         Spearow  40      60       30       31       31     70\n",
       "11           Ditto  48      48       48       48       48     48\n",
       "12           Ekans  35      60       44       40       54     55\n",
       "13           Paras  35      70       55       45       55     25\n",
       "14         Dratini  41      64       45       50       50     50"
      ]
     },
     "execution_count": 6,
     "metadata": {},
     "output_type": "execute_result"
    }
   ],
   "source": [
    "# Only account for the stats\n",
    "pokemon_rec = pokemon_df[['Name', 'Hp', 'Attack', 'Defense', 'Sp. Atk', 'Sp. Def', 'Speed', 'Generation']]\n",
    "pokemon_rec = pokemon_rec.set_index('Name')\n",
    "\n",
    "if generation_slider.value != 7:\n",
    "    pokemon_rec = pokemon_rec[pokemon_rec['Generation'] == generation_slider.value]\n",
    "pokemon_rec = pokemon_rec.drop(['Generation'], axis=1)\n",
    "\n",
    "# Get all of the maxes for all the stats\n",
    "hp_max = pokemon_rec['Hp'].max()\n",
    "attack_max = pokemon_rec['Attack'].max()\n",
    "defense_max = pokemon_rec['Defense'].max()\n",
    "sp_attack_max = pokemon_rec['Sp. Atk'].max()\n",
    "sp_defense_max = pokemon_rec['Sp. Def'].max()\n",
    "speed_max = pokemon_rec['Speed'].max()\n",
    "\n",
    "# Based on the slider\n",
    "hp_value = (hp_slider.value * (hp_max - 1))/100\n",
    "attack_value = (attack_slider.value * (attack_max - 5))/100\n",
    "defense_value = (defense_slider.value * (defense_max - 5))/100\n",
    "sp_attack_value = (sp_attack_slider.value * (sp_attack_max - 10))/100\n",
    "sp_defense_value = (sp_defense_slider.value * (sp_defense_max - 20))/100\n",
    "speed_value = (speed_slider.value * (speed_max - 5))/100\n",
    "\n",
    "# Uses the inputs to find most similar\n",
    "inputs = numpy.array([hp_value, attack_value, defense_value, sp_attack_value, sp_defense_value, speed_value]).reshape(1, -1)\n",
    "euc_dist = sklearn.metrics.pairwise.euclidean_distances(pokemon_rec.values, inputs)\n",
    "\n",
    "# Sorts the dataframe\n",
    "euc_dist_df = pandas.DataFrame(euc_dist, index = pokemon_rec.index, columns = ['Distance'])\n",
    "euc_dist_df = euc_dist_df.sort_values('Distance')\n",
    "\n",
    "rankings = pandas.DataFrame(euc_dist_df.index)\n",
    "rankings_with_stats = pandas.merge(rankings, pokemon_rec, on = 'Name', how = 'inner')\n",
    "rankings_with_stats.index.name = \"Rankings\"\n",
    "rankings_with_stats.head(15)"
   ]
  },
  {
   "cell_type": "markdown",
   "id": "7a88a9b8",
   "metadata": {},
   "source": [
    "Above, you will be provided a data frame that finds the closest to what the sliders were set to.\n",
    "\n",
    "With the recommendation system, I can for example take my Pokemon Weedle which has a HP of 40 and a speed of 50. I want to find another Pokemon that is of similar HP, but a higher speed. By setting my desired sliders in the recommendation system I see that Smeargle is a similar Pokemon with an HP of 55 and a speed of 75, which meets my desired requirements. There are many other applications for this recommendation system as it allows us to find Pokemon based on specific traits that we are looking for with rankings. "
   ]
  },
  {
   "cell_type": "markdown",
   "id": "0ba07bff",
   "metadata": {},
   "source": [
    "# What Pokemon fit certain statistics best?"
   ]
  },
  {
   "cell_type": "markdown",
   "id": "04ec9fb5",
   "metadata": {},
   "source": [
    "## Ability Weights Recomendation System"
   ]
  },
  {
   "cell_type": "markdown",
   "id": "06636668",
   "metadata": {},
   "source": [
    "This system is based off of the Andromeda instructor notes and system that we worked with in class. The code has been changed to just use the sliders and weighting methods without performing MDS or inverse Dimension Reduction. These changes were made as we did not need to graph the data, but simply need to weight stats for each Pokemon and the Andromeda code offered a good base for this use. This helps us answer the question of what Pokemon most suited for the stats that are weighted the heaviest."
   ]
  },
  {
   "cell_type": "markdown",
   "id": "781fe767",
   "metadata": {},
   "source": [
    "### Gather columns and clean data for weighting"
   ]
  },
  {
   "cell_type": "code",
   "execution_count": 7,
   "id": "25d3bc1b",
   "metadata": {},
   "outputs": [],
   "source": [
    "pokemon_weights_rec = pokemon_df[['Hp', 'Attack', 'Defense', 'Sp. Atk', 'Sp. Def', 'Speed']]\n",
    "pokemon_weights_rec = pokemon_weights_rec.set_index(pokemon_df.Name)\n",
    "pokemon_weights_rec = pokemon_weights_rec.fillna(0).astype(\"int64\")\n",
    "normalized_pokemon = (pokemon_weights_rec - pokemon_weights_rec.mean()) / pokemon_weights_rec.std()"
   ]
  },
  {
   "cell_type": "markdown",
   "id": "131747eb",
   "metadata": {},
   "source": [
    "### Weight the data according the weights recieved in function"
   ]
  },
  {
   "cell_type": "markdown",
   "id": "5ac34cf7",
   "metadata": {},
   "source": [
    "We are going to weight the data from 0.00001 to 0.9999. "
   ]
  },
  {
   "cell_type": "code",
   "execution_count": 8,
   "id": "c42cb0cf",
   "metadata": {},
   "outputs": [],
   "source": [
    "def weight_data(dataHD, wts):\n",
    "    # Normalize the weights to sum to 1\n",
    "    wts = wts / wts.sum()\n",
    "    \n",
    "    # Apply weights to the HD data \n",
    "    dataHDw = pandas.DataFrame(dataHD * wts)\n",
    "\n",
    "    # Compute row relevances as:  data dot weights\n",
    "    # High relevance means large values in upweighted dimensions\n",
    "    dataHDw['relevance'] = dataHDw.sum(axis=1)\n",
    "    return dataHDw\n",
    "\n",
    "min_weight, max_weight = 0.00001, 0.9999\n",
    "init_weight = min_weight\n",
    "weights = pandas.Series(init_weight, index=normalized_pokemon.columns, name = \"Weight\")\n",
    "\n",
    "df_2D = weight_data(normalized_pokemon, weights)"
   ]
  },
  {
   "cell_type": "markdown",
   "id": "8b242078",
   "metadata": {},
   "source": [
    "### Create sliders for weighing data according to users preferences"
   ]
  },
  {
   "cell_type": "markdown",
   "id": "f93ae971",
   "metadata": {},
   "source": [
    "This creates the sliders that are used below."
   ]
  },
  {
   "cell_type": "code",
   "execution_count": 9,
   "id": "abbd59be",
   "metadata": {},
   "outputs": [],
   "source": [
    "def create_sliders(wts):\n",
    "    # Create sliders, one for each dimension weight\n",
    "    sliders = [widgets.FloatSlider(min = min_weight, max = max_weight, step = 0.01, value = value, \n",
    "                                       description = label, continuous_update = False, readout_format = '.5f')\n",
    "                   for (label, value) in wts.iteritems()]\n",
    "    \n",
    "    # Make the sliders larger\n",
    "    for slider in sliders:\n",
    "        slider.layout.width = '75%'\n",
    "        \n",
    "    # Display sliders\n",
    "    for s in sliders:\n",
    "        display(s)\n",
    "        \n",
    "    create_slider_buttons(sliders)\n",
    "    return sliders\n",
    "\n",
    "# Makes the buttons to reset and apply\n",
    "def create_slider_buttons(sliders):    \n",
    "    apply_button = widgets.Button(description = 'Apply Slider Weights')\n",
    "    reset_button = widgets.Button(description =' Reset Weights')\n",
    "    \n",
    "    output = widgets.Output()\n",
    "    with output:\n",
    "        display()\n",
    "\n",
    "    # More functions\n",
    "    def apply_button_clicked(change):\n",
    "        global weights, df_2D\n",
    "        weights = pandas.Series([s.value for s in sliders], index=normalized_pokemon.columns, name='Weight')\n",
    "        df_2D = weight_data(normalized_pokemon, weights)\n",
    "    \n",
    "        display_data(df_2D)\n",
    "    apply_button.on_click(apply_button_clicked)\n",
    "\n",
    "    def reset_button_clicked(change):\n",
    "        for s in sliders:\n",
    "            s.value = init_weight\n",
    "        apply_button_clicked(change)\n",
    "    reset_button.on_click(reset_button_clicked)\n",
    "    \n",
    "    def display_data(data):\n",
    "        data = data.sort_values(\"relevance\", ascending = False)\n",
    "        rankings = pandas.DataFrame(data.index)\n",
    "        rankings_with_stats = pandas.merge(rankings, pokemon_weights_rec, on = 'Name', how = 'inner')\n",
    "        rankings_with_stats.index.name = \"Rankings\"\n",
    "\n",
    "        # Reoutput the rankings\n",
    "        with output:\n",
    "            output.clear_output()\n",
    "            display(rankings_with_stats.head(10))\n",
    "    \n",
    "    # Display buttons\n",
    "    display(apply_button)\n",
    "    display(reset_button)\n",
    "    display(output)\n",
    "    return apply_button, reset_button"
   ]
  },
  {
   "cell_type": "markdown",
   "id": "fc675333",
   "metadata": {},
   "source": [
    "### Creates sliders"
   ]
  },
  {
   "cell_type": "code",
   "execution_count": 10,
   "id": "b4614b55",
   "metadata": {},
   "outputs": [
    {
     "data": {
      "application/vnd.jupyter.widget-view+json": {
       "model_id": "23680a016087479c86da6627e1aa7c5e",
       "version_major": 2,
       "version_minor": 0
      },
      "text/plain": [
       "FloatSlider(value=1e-05, continuous_update=False, description='Hp', layout=Layout(width='75%'), max=0.9999, mi…"
      ]
     },
     "metadata": {},
     "output_type": "display_data"
    },
    {
     "data": {
      "application/vnd.jupyter.widget-view+json": {
       "model_id": "33f4abed841a49d3adcefc23ef779e9e",
       "version_major": 2,
       "version_minor": 0
      },
      "text/plain": [
       "FloatSlider(value=1e-05, continuous_update=False, description='Attack', layout=Layout(width='75%'), max=0.9999…"
      ]
     },
     "metadata": {},
     "output_type": "display_data"
    },
    {
     "data": {
      "application/vnd.jupyter.widget-view+json": {
       "model_id": "cfd9b62bed4e4f6ba13689ccb120d966",
       "version_major": 2,
       "version_minor": 0
      },
      "text/plain": [
       "FloatSlider(value=1e-05, continuous_update=False, description='Defense', layout=Layout(width='75%'), max=0.999…"
      ]
     },
     "metadata": {},
     "output_type": "display_data"
    },
    {
     "data": {
      "application/vnd.jupyter.widget-view+json": {
       "model_id": "416c70411f6a425bb8f051cd6fb5598d",
       "version_major": 2,
       "version_minor": 0
      },
      "text/plain": [
       "FloatSlider(value=1e-05, continuous_update=False, description='Sp. Atk', layout=Layout(width='75%'), max=0.999…"
      ]
     },
     "metadata": {},
     "output_type": "display_data"
    },
    {
     "data": {
      "application/vnd.jupyter.widget-view+json": {
       "model_id": "f43dc3fc355540c0b51b81f8be2af277",
       "version_major": 2,
       "version_minor": 0
      },
      "text/plain": [
       "FloatSlider(value=1e-05, continuous_update=False, description='Sp. Def', layout=Layout(width='75%'), max=0.999…"
      ]
     },
     "metadata": {},
     "output_type": "display_data"
    },
    {
     "data": {
      "application/vnd.jupyter.widget-view+json": {
       "model_id": "d155d2a4953a49a5b3f8fb0cc1a90204",
       "version_major": 2,
       "version_minor": 0
      },
      "text/plain": [
       "FloatSlider(value=1e-05, continuous_update=False, description='Speed', layout=Layout(width='75%'), max=0.9999,…"
      ]
     },
     "metadata": {},
     "output_type": "display_data"
    },
    {
     "data": {
      "application/vnd.jupyter.widget-view+json": {
       "model_id": "02b8f55f35044d599e09691d8af0e93d",
       "version_major": 2,
       "version_minor": 0
      },
      "text/plain": [
       "Button(description='Apply Slider Weights', style=ButtonStyle())"
      ]
     },
     "metadata": {},
     "output_type": "display_data"
    },
    {
     "data": {
      "application/vnd.jupyter.widget-view+json": {
       "model_id": "71ed293b48a74ec8861b0950f54fa02f",
       "version_major": 2,
       "version_minor": 0
      },
      "text/plain": [
       "Button(description=' Reset Weights', style=ButtonStyle())"
      ]
     },
     "metadata": {},
     "output_type": "display_data"
    },
    {
     "data": {
      "application/vnd.jupyter.widget-view+json": {
       "model_id": "57b9faef076b4b9b8f56b1bbdd79a135",
       "version_major": 2,
       "version_minor": 0
      },
      "text/plain": [
       "Output()"
      ]
     },
     "metadata": {},
     "output_type": "display_data"
    }
   ],
   "source": [
    "sliders = create_sliders(weights)"
   ]
  },
  {
   "cell_type": "markdown",
   "id": "5523220f",
   "metadata": {},
   "source": [
    "This recommendation system weights the stats to find Pokemon that fit the highest weighted stats best. For example, if you wanted to find a Pokemon that only cares about Hp and Attack only increase those sliders. And then you will get a data frame that only weights those stats. So if we set HP and attack to the max for unweighted sliders for all generations, the table will be different for the weighted sliders setting HP and attack to the 99th percentile. The number 1 Pokemon in both these cases will be Hariyama and Slaking for unweighted and weighted, respectively. The Hariyama has HP, attack, defense, sp. attack, sp. defense, and speed at 144, 120, 60, 40, 60, and 50 respectively. Meanwhile, the Slaking has stats of 150, 160, 100, 95, 65, and 100 in those categories. "
   ]
  },
  {
   "cell_type": "markdown",
   "id": "398d2354",
   "metadata": {},
   "source": [
    "### Comparing the recommendation systems\n",
    "Each of the above recommendation systems has its own purpose that it can best be used for as the similarity recommendation system can provide the user with a list of Pokemon that are perfectly tailored to the statistics the user has entered. While the weight recommendation system allows users to choose statistics that they value the most and the system will provide them with a list of Pokemon that best fit those most valued statistics. \n",
    "\n",
    "Each system can not fulfill the role of the other and therefore both are useful in answering different questions users may have in regard to Pokemon statistics."
   ]
  },
  {
   "cell_type": "markdown",
   "id": "c557f007",
   "metadata": {},
   "source": [
    "# How do legendary Pokemon cluster depending on the number of clusters?"
   ]
  },
  {
   "cell_type": "markdown",
   "id": "70ffeabe",
   "metadata": {},
   "source": [
    "This question looks into how legendary Pokemon cluster when there is a different amount of clusters.\n",
    "\n",
    "You can choose the number of clusters wanted."
   ]
  },
  {
   "cell_type": "code",
   "execution_count": 11,
   "id": "50cbaca9",
   "metadata": {},
   "outputs": [
    {
     "data": {
      "application/vnd.jupyter.widget-view+json": {
       "model_id": "05d1501bc4214509833f778d7353dcca",
       "version_major": 2,
       "version_minor": 0
      },
      "text/plain": [
       "IntSlider(value=1, description='Clusters:', layout=Layout(width='75%'), max=42, min=1)"
      ]
     },
     "metadata": {},
     "output_type": "display_data"
    }
   ],
   "source": [
    "# Makes a cluster slider\n",
    "cluster_slider = widgets.IntSlider(value = 1, min = 1, max = 42, step = 1, description = 'Clusters:', description_width='auto')\n",
    "cluster_slider.layout.width = '75%'\n",
    "display(cluster_slider)"
   ]
  },
  {
   "cell_type": "code",
   "execution_count": 12,
   "id": "30c52f5d",
   "metadata": {},
   "outputs": [
    {
     "name": "stderr",
     "output_type": "stream",
     "text": [
      "C:\\Python IDE\\lib\\site-packages\\sklearn\\cluster\\_kmeans.py:1146: RuntimeWarning: Explicit initial center position passed: performing only one init in KMeans instead of n_init=10.\n",
      "  self._check_params(X)\n",
      "C:\\Python IDE\\lib\\site-packages\\sklearn\\cluster\\_kmeans.py:1036: UserWarning: KMeans is known to have a memory leak on Windows with MKL, when there are less chunks than available threads. You can avoid it by setting the environment variable OMP_NUM_THREADS=1.\n",
      "  warnings.warn(\n"
     ]
    },
    {
     "data": {
      "text/html": [
       "<div>\n",
       "<style scoped>\n",
       "    .dataframe tbody tr th:only-of-type {\n",
       "        vertical-align: middle;\n",
       "    }\n",
       "\n",
       "    .dataframe tbody tr th {\n",
       "        vertical-align: top;\n",
       "    }\n",
       "\n",
       "    .dataframe thead th {\n",
       "        text-align: right;\n",
       "    }\n",
       "</style>\n",
       "<table border=\"1\" class=\"dataframe\">\n",
       "  <thead>\n",
       "    <tr style=\"text-align: right;\">\n",
       "      <th></th>\n",
       "      <th>Cluster</th>\n",
       "      <th>Size</th>\n",
       "    </tr>\n",
       "  </thead>\n",
       "  <tbody>\n",
       "    <tr>\n",
       "      <th>0</th>\n",
       "      <td>0</td>\n",
       "      <td>42</td>\n",
       "    </tr>\n",
       "  </tbody>\n",
       "</table>\n",
       "</div>"
      ],
      "text/plain": [
       "   Cluster  Size\n",
       "0        0    42"
      ]
     },
     "execution_count": 12,
     "metadata": {},
     "output_type": "execute_result"
    }
   ],
   "source": [
    "# Makes a copy of the data from above\n",
    "legendary_df = pokemon_df.copy()\n",
    "\n",
    "# Filters based on whether it is legendary or not\n",
    "legendary_df = legendary_df[legendary_df['Legendary']]\n",
    "\n",
    "# Only use columns with statistics\n",
    "legendary_df = legendary_df.iloc[:, [1, 4, 5, 6, 7, 8, 9]]\n",
    "\n",
    "# Get rid of the index and reset it to the name\n",
    "legendary_df = legendary_df.reset_index()\n",
    "legendary_df = legendary_df.drop(['index'], axis = 1)\n",
    "legendary_df = legendary_df.set_index('Name')\n",
    "\n",
    "# Normalize the data\n",
    "legendary_df = (legendary_df - legendary_df.mean())/legendary_df.std()\n",
    "\n",
    "# Clustering the data into a specfic amount of clusters\n",
    "specfic_clusters = sklearn.cluster.KMeans(n_clusters = cluster_slider.value)\n",
    "specfic_clusters.init = legendary_df.iloc[:cluster_slider.value,:]\n",
    "cluster_df = specfic_clusters.fit_predict(legendary_df)\n",
    "\n",
    "# Puts the data into a dataframe\n",
    "clustered_legendary = pandas.DataFrame(cluster_df, columns = ['Cluster'], index = legendary_df.index)\n",
    "clustered_legendary = clustered_legendary.sort_values('Cluster')\n",
    "\n",
    "# Dataframe to show size per cluster\n",
    "cluster_size = numpy.bincount(clustered_legendary['Cluster'])\n",
    "cluster_total_df = pandas.DataFrame({'Size': cluster_size})\n",
    "cluster_total_df = cluster_total_df.reset_index().rename(columns={'index': 'Cluster'})\n",
    "\n",
    "cluster_total_df"
   ]
  },
  {
   "cell_type": "markdown",
   "id": "29683105",
   "metadata": {},
   "source": [
    "Now we know how big each cluster is and that lets us know the groupings."
   ]
  },
  {
   "cell_type": "code",
   "execution_count": 13,
   "id": "28797632",
   "metadata": {},
   "outputs": [
    {
     "data": {
      "text/plain": [
       "<function matplotlib.pyplot.show(close=None, block=None)>"
      ]
     },
     "execution_count": 13,
     "metadata": {},
     "output_type": "execute_result"
    },
    {
     "data": {
      "image/png": "[encoded data removed]",
      "text/plain": [
       "<Figure size 1200x1000 with 1 Axes>"
      ]
     },
     "metadata": {},
     "output_type": "display_data"
    }
   ],
   "source": [
    "# Bar chart to show cluster size\n",
    "fig, ax = plt.subplots(figsize=(12, 10))\n",
    "plt.bar(cluster_total_df['Cluster'], cluster_total_df['Size'])\n",
    "plt.xticks(cluster_total_df.index, cluster_total_df.index)\n",
    "plt.xlabel('Cluster')\n",
    "plt.ylabel('Size')\n",
    "plt.title('Cluster Size for Legendary Pokemon')\n",
    "plt.show"
   ]
  },
  {
   "cell_type": "markdown",
   "id": "6aabacca",
   "metadata": {},
   "source": [
    "The graph allows us to see how many legendary Pokemon would be clustered together for different amount of clusters. This can give us useful insight into the average similarity of legendary Pokemon as the clusters increase there are still clusters of legendary Pokemon that have multiple Pokemon showing that some of the legendary Pokemon are very similar such as when the clusters is set to 27 there are 2 clusters of 4 Pokemon each while most of the other clusters are 1-2 Pokemon. This can help show that certain legendary Pokemon are very similar to each other."
   ]
  },
  {
   "cell_type": "markdown",
   "id": "c7e8ece4",
   "metadata": {},
   "source": [
    "# Which types of Pokemon correlate with which attributes?"
   ]
  },
  {
   "cell_type": "markdown",
   "id": "bbde2116",
   "metadata": {},
   "source": [
    "We can't display a correlation matrix the same way for categorical vs numerical data, but we can see how the averages of a numerical column compare among the types and use this do determine how types match up with certain attributes."
   ]
  },
  {
   "cell_type": "code",
   "execution_count": 14,
   "id": "92755347",
   "metadata": {
    "scrolled": true
   },
   "outputs": [
    {
     "data": {
      "text/plain": [
       "Type 1\n",
       "Bug          65.322581\n",
       "Dark         86.250000\n",
       "Dragon      102.739130\n",
       "Electric     67.500000\n",
       "Fairy        61.529412\n",
       "Name: Attack, dtype: float64"
      ]
     },
     "execution_count": 14,
     "metadata": {},
     "output_type": "execute_result"
    }
   ],
   "source": [
    "corrTypes = pokemon_df.copy()\n",
    "typeMean = pokemon_df.groupby('Type 1')['Attack'].mean()\n",
    "typeMean.head(5)"
   ]
  },
  {
   "cell_type": "code",
   "execution_count": 15,
   "id": "b54479d3",
   "metadata": {
    "scrolled": true
   },
   "outputs": [
    {
     "data": {
      "text/plain": [
       "array(['Grass', 'Fire', 'Water', 'Bug', 'Normal', 'Poison', 'Electric',\n",
       "       'Ground', 'Fairy', 'Fighting', 'Psychic', 'Rock', 'Ghost', 'Ice',\n",
       "       'Dragon', 'Dark', 'Steel', 'Flying'], dtype=object)"
      ]
     },
     "execution_count": 15,
     "metadata": {},
     "output_type": "execute_result"
    }
   ],
   "source": [
    "corrTypes['Type 1'].unique()"
   ]
  },
  {
   "cell_type": "code",
   "execution_count": 16,
   "id": "bed07a40",
   "metadata": {
    "scrolled": true
   },
   "outputs": [
    {
     "data": {
      "image/png": "[encoded data removed]",
      "text/plain": [
       "<Figure size 1500x300 with 1 Axes>"
      ]
     },
     "metadata": {},
     "output_type": "display_data"
    }
   ],
   "source": [
    "plt.figure(figsize = (15, 3))\n",
    "plt.bar(corrTypes['Type 1'], corrTypes['Attack'])\n",
    "plt.xlabel('Type')\n",
    "plt.ylabel('Attack')\n",
    "plt.show()"
   ]
  },
  {
   "cell_type": "markdown",
   "id": "b6f09171",
   "metadata": {},
   "source": [
    "From the distribution, Normal and Rock types have the highest attack on average, while Poison and Flying have the lowest attack."
   ]
  },
  {
   "cell_type": "code",
   "execution_count": 17,
   "id": "47973f29",
   "metadata": {
    "scrolled": true
   },
   "outputs": [
    {
     "data": {
      "image/png": "[encoded data removed]",
      "text/plain": [
       "<Figure size 1500x300 with 1 Axes>"
      ]
     },
     "metadata": {},
     "output_type": "display_data"
    }
   ],
   "source": [
    "plt.figure(figsize=(15, 3))\n",
    "plt.bar(corrTypes['Type 1'], corrTypes['Defense'])\n",
    "plt.xlabel('Type')\n",
    "plt.ylabel('Defense')\n",
    "plt.show()"
   ]
  },
  {
   "cell_type": "markdown",
   "id": "0d84a010",
   "metadata": {},
   "source": [
    "Bug, Rock, and Steel have the highest defense on average, while Flying, Fairy, and Fighting have the lowest defense."
   ]
  },
  {
   "cell_type": "code",
   "execution_count": 18,
   "id": "1dbe0946",
   "metadata": {},
   "outputs": [
    {
     "data": {
      "image/png": "[encoded data removed]",
      "text/plain": [
       "<Figure size 1500x300 with 1 Axes>"
      ]
     },
     "metadata": {},
     "output_type": "display_data"
    }
   ],
   "source": [
    "plt.figure(figsize = (15, 3))\n",
    "plt.bar(corrTypes['Type 1'], corrTypes['Hp'])\n",
    "plt.xlabel('Type')\n",
    "plt.ylabel('HP')\n",
    "plt.show()"
   ]
  },
  {
   "cell_type": "markdown",
   "id": "2dd93f60",
   "metadata": {},
   "source": [
    "For HP, Normal type has the highest by a significant margin while Flying has the lowest. This distribution is much more varied than the others."
   ]
  },
  {
   "cell_type": "code",
   "execution_count": 19,
   "id": "2f5dae0a",
   "metadata": {},
   "outputs": [
    {
     "data": {
      "image/png": "[encoded data removed]",
      "text/plain": [
       "<Figure size 1500x300 with 1 Axes>"
      ]
     },
     "metadata": {},
     "output_type": "display_data"
    }
   ],
   "source": [
    "plt.figure(figsize = (15, 3))\n",
    "plt.bar(corrTypes['Type 1'], corrTypes['Sp. Atk'])\n",
    "plt.xlabel('Type')\n",
    "plt.ylabel('Sp. Atk')\n",
    "plt.show()"
   ]
  },
  {
   "cell_type": "markdown",
   "id": "013d03eb",
   "metadata": {},
   "source": [
    "For Special Attack, Psychic is the highest though most of the types look to have an average around the same."
   ]
  },
  {
   "cell_type": "code",
   "execution_count": 20,
   "id": "9210047a",
   "metadata": {},
   "outputs": [
    {
     "data": {
      "image/png": "[encoded data removed]",
      "text/plain": [
       "<Figure size 1500x300 with 1 Axes>"
      ]
     },
     "metadata": {},
     "output_type": "display_data"
    }
   ],
   "source": [
    "plt.figure(figsize = (15, 3))\n",
    "plt.bar(corrTypes['Type 1'], corrTypes['Sp. Def'])\n",
    "plt.xlabel('Type')\n",
    "plt.ylabel('Sp. Def')\n",
    "plt.show()"
   ]
  },
  {
   "cell_type": "code",
   "execution_count": 21,
   "id": "7817ba49",
   "metadata": {},
   "outputs": [
    {
     "data": {
      "image/png": "[encoded data removed]",
      "text/plain": [
       "<Figure size 1500x300 with 1 Axes>"
      ]
     },
     "metadata": {},
     "output_type": "display_data"
    }
   ],
   "source": [
    "plt.figure(figsize = (15, 3))\n",
    "plt.bar(corrTypes['Type 1'], corrTypes['Speed'])\n",
    "plt.xlabel('Type')\n",
    "plt.ylabel('Speed')\n",
    "plt.show()"
   ]
  },
  {
   "cell_type": "markdown",
   "id": "465c0081",
   "metadata": {},
   "source": [
    "Since we are looking at averages in these distributions, the more significant the margin between stats for a type would likely correlate with that type having a higher stat level. So what we conclude perhaps the best is that you would have a good chance of having a high HP Pokemon with a Normal type. What we do not know however is if outliers are skewing this data and bringing up the mean."
   ]
  },
  {
   "cell_type": "markdown",
   "id": "4b6e962d",
   "metadata": {},
   "source": [
    "# How do different statistics correlate over different generations?\n"
   ]
  },
  {
   "cell_type": "markdown",
   "id": "985e1575",
   "metadata": {},
   "source": [
    "The slider below will allow you to set it to a specfic generation"
   ]
  },
  {
   "cell_type": "code",
   "execution_count": 22,
   "id": "7af07950",
   "metadata": {},
   "outputs": [
    {
     "name": "stdout",
     "output_type": "stream",
     "text": [
      "\n",
      "Note: Choose 7 if you wany to see across generations 1-6\n"
     ]
    },
    {
     "data": {
      "application/vnd.jupyter.widget-view+json": {
       "model_id": "f5d462a84c8e4ab18190dba2439edf8f",
       "version_major": 2,
       "version_minor": 0
      },
      "text/plain": [
       "IntSlider(value=1, description='Generation:', layout=Layout(width='75%'), max=7, min=1)"
      ]
     },
     "metadata": {},
     "output_type": "display_data"
    }
   ],
   "source": [
    "gen_slider = widgets.IntSlider(value = 1, min = 1, max = 7, step = 1, description = 'Generation:', description_width='auto')\n",
    "gen_slider.layout.width = '75%'\n",
    "print('\\n' + 'Note: Choose 7 if you wany to see across generations 1-6')\n",
    "display(gen_slider)"
   ]
  },
  {
   "cell_type": "markdown",
   "id": "42db1c93",
   "metadata": {},
   "source": [
    "Below, we will look for correlations across different generations or all generations and output them. We have a specific set of stats that we want to look at."
   ]
  },
  {
   "cell_type": "code",
   "execution_count": 23,
   "id": "0e6c75c6",
   "metadata": {},
   "outputs": [
    {
     "data": {
      "text/html": [
       "<div>\n",
       "<style scoped>\n",
       "    .dataframe tbody tr th:only-of-type {\n",
       "        vertical-align: middle;\n",
       "    }\n",
       "\n",
       "    .dataframe tbody tr th {\n",
       "        vertical-align: top;\n",
       "    }\n",
       "\n",
       "    .dataframe thead th {\n",
       "        text-align: right;\n",
       "    }\n",
       "</style>\n",
       "<table border=\"1\" class=\"dataframe\">\n",
       "  <thead>\n",
       "    <tr style=\"text-align: right;\">\n",
       "      <th></th>\n",
       "      <th>Type 1</th>\n",
       "      <th>Type 2</th>\n",
       "      <th>Hp</th>\n",
       "      <th>Attack</th>\n",
       "      <th>Defense</th>\n",
       "      <th>Sp. Atk</th>\n",
       "      <th>Sp. Def</th>\n",
       "      <th>Speed</th>\n",
       "      <th>Height M</th>\n",
       "      <th>Percentage Male</th>\n",
       "      <th>Weight Kg</th>\n",
       "    </tr>\n",
       "  </thead>\n",
       "  <tbody>\n",
       "    <tr>\n",
       "      <th>Type 1</th>\n",
       "      <td>1.000000</td>\n",
       "      <td>0.024093</td>\n",
       "      <td>0.081693</td>\n",
       "      <td>-0.018507</td>\n",
       "      <td>0.231813</td>\n",
       "      <td>-0.040156</td>\n",
       "      <td>-0.004974</td>\n",
       "      <td>-0.044210</td>\n",
       "      <td>0.098026</td>\n",
       "      <td>0.007528</td>\n",
       "      <td>0.132807</td>\n",
       "    </tr>\n",
       "    <tr>\n",
       "      <th>Type 2</th>\n",
       "      <td>0.024093</td>\n",
       "      <td>1.000000</td>\n",
       "      <td>-0.125821</td>\n",
       "      <td>-0.120694</td>\n",
       "      <td>-0.068446</td>\n",
       "      <td>-0.105331</td>\n",
       "      <td>-0.056756</td>\n",
       "      <td>0.000172</td>\n",
       "      <td>-0.193547</td>\n",
       "      <td>0.159977</td>\n",
       "      <td>-0.102215</td>\n",
       "    </tr>\n",
       "    <tr>\n",
       "      <th>Hp</th>\n",
       "      <td>0.081693</td>\n",
       "      <td>-0.125821</td>\n",
       "      <td>1.000000</td>\n",
       "      <td>0.308086</td>\n",
       "      <td>0.119877</td>\n",
       "      <td>0.236745</td>\n",
       "      <td>0.490993</td>\n",
       "      <td>-0.041251</td>\n",
       "      <td>0.209278</td>\n",
       "      <td>-0.172765</td>\n",
       "      <td>0.459661</td>\n",
       "    </tr>\n",
       "    <tr>\n",
       "      <th>Attack</th>\n",
       "      <td>-0.018507</td>\n",
       "      <td>-0.120694</td>\n",
       "      <td>0.308086</td>\n",
       "      <td>1.000000</td>\n",
       "      <td>0.497112</td>\n",
       "      <td>0.149139</td>\n",
       "      <td>0.369606</td>\n",
       "      <td>0.188262</td>\n",
       "      <td>0.314948</td>\n",
       "      <td>0.190680</td>\n",
       "      <td>0.453120</td>\n",
       "    </tr>\n",
       "    <tr>\n",
       "      <th>Defense</th>\n",
       "      <td>0.231813</td>\n",
       "      <td>-0.068446</td>\n",
       "      <td>0.119877</td>\n",
       "      <td>0.497112</td>\n",
       "      <td>1.000000</td>\n",
       "      <td>0.187154</td>\n",
       "      <td>0.140306</td>\n",
       "      <td>-0.051434</td>\n",
       "      <td>0.367882</td>\n",
       "      <td>0.089322</td>\n",
       "      <td>0.371335</td>\n",
       "    </tr>\n",
       "    <tr>\n",
       "      <th>Sp. Atk</th>\n",
       "      <td>-0.040156</td>\n",
       "      <td>-0.105331</td>\n",
       "      <td>0.236745</td>\n",
       "      <td>0.149139</td>\n",
       "      <td>0.187154</td>\n",
       "      <td>1.000000</td>\n",
       "      <td>0.523340</td>\n",
       "      <td>0.414562</td>\n",
       "      <td>0.106360</td>\n",
       "      <td>0.155327</td>\n",
       "      <td>0.135491</td>\n",
       "    </tr>\n",
       "    <tr>\n",
       "      <th>Sp. Def</th>\n",
       "      <td>-0.004974</td>\n",
       "      <td>-0.056756</td>\n",
       "      <td>0.490993</td>\n",
       "      <td>0.369606</td>\n",
       "      <td>0.140306</td>\n",
       "      <td>0.523340</td>\n",
       "      <td>1.000000</td>\n",
       "      <td>0.392870</td>\n",
       "      <td>0.295729</td>\n",
       "      <td>0.151291</td>\n",
       "      <td>0.413309</td>\n",
       "    </tr>\n",
       "    <tr>\n",
       "      <th>Speed</th>\n",
       "      <td>-0.044210</td>\n",
       "      <td>0.000172</td>\n",
       "      <td>-0.041251</td>\n",
       "      <td>0.188262</td>\n",
       "      <td>-0.051434</td>\n",
       "      <td>0.414562</td>\n",
       "      <td>0.392870</td>\n",
       "      <td>1.000000</td>\n",
       "      <td>0.242372</td>\n",
       "      <td>0.133731</td>\n",
       "      <td>0.128181</td>\n",
       "    </tr>\n",
       "    <tr>\n",
       "      <th>Height M</th>\n",
       "      <td>0.098026</td>\n",
       "      <td>-0.193547</td>\n",
       "      <td>0.209278</td>\n",
       "      <td>0.314948</td>\n",
       "      <td>0.367882</td>\n",
       "      <td>0.106360</td>\n",
       "      <td>0.295729</td>\n",
       "      <td>0.242372</td>\n",
       "      <td>1.000000</td>\n",
       "      <td>-0.037950</td>\n",
       "      <td>0.590757</td>\n",
       "    </tr>\n",
       "    <tr>\n",
       "      <th>Percentage Male</th>\n",
       "      <td>0.007528</td>\n",
       "      <td>0.159977</td>\n",
       "      <td>-0.172765</td>\n",
       "      <td>0.190680</td>\n",
       "      <td>0.089322</td>\n",
       "      <td>0.155327</td>\n",
       "      <td>0.151291</td>\n",
       "      <td>0.133731</td>\n",
       "      <td>-0.037950</td>\n",
       "      <td>1.000000</td>\n",
       "      <td>0.093716</td>\n",
       "    </tr>\n",
       "    <tr>\n",
       "      <th>Weight Kg</th>\n",
       "      <td>0.132807</td>\n",
       "      <td>-0.102215</td>\n",
       "      <td>0.459661</td>\n",
       "      <td>0.453120</td>\n",
       "      <td>0.371335</td>\n",
       "      <td>0.135491</td>\n",
       "      <td>0.413309</td>\n",
       "      <td>0.128181</td>\n",
       "      <td>0.590757</td>\n",
       "      <td>0.093716</td>\n",
       "      <td>1.000000</td>\n",
       "    </tr>\n",
       "  </tbody>\n",
       "</table>\n",
       "</div>"
      ],
      "text/plain": [
       "                   Type 1    Type 2        Hp    Attack   Defense   Sp. Atk  \\\n",
       "Type 1           1.000000  0.024093  0.081693 -0.018507  0.231813 -0.040156   \n",
       "Type 2           0.024093  1.000000 -0.125821 -0.120694 -0.068446 -0.105331   \n",
       "Hp               0.081693 -0.125821  1.000000  0.308086  0.119877  0.236745   \n",
       "Attack          -0.018507 -0.120694  0.308086  1.000000  0.497112  0.149139   \n",
       "Defense          0.231813 -0.068446  0.119877  0.497112  1.000000  0.187154   \n",
       "Sp. Atk         -0.040156 -0.105331  0.236745  0.149139  0.187154  1.000000   \n",
       "Sp. Def         -0.004974 -0.056756  0.490993  0.369606  0.140306  0.523340   \n",
       "Speed           -0.044210  0.000172 -0.041251  0.188262 -0.051434  0.414562   \n",
       "Height M         0.098026 -0.193547  0.209278  0.314948  0.367882  0.106360   \n",
       "Percentage Male  0.007528  0.159977 -0.172765  0.190680  0.089322  0.155327   \n",
       "Weight Kg        0.132807 -0.102215  0.459661  0.453120  0.371335  0.135491   \n",
       "\n",
       "                  Sp. Def     Speed  Height M  Percentage Male  Weight Kg  \n",
       "Type 1          -0.004974 -0.044210  0.098026         0.007528   0.132807  \n",
       "Type 2          -0.056756  0.000172 -0.193547         0.159977  -0.102215  \n",
       "Hp               0.490993 -0.041251  0.209278        -0.172765   0.459661  \n",
       "Attack           0.369606  0.188262  0.314948         0.190680   0.453120  \n",
       "Defense          0.140306 -0.051434  0.367882         0.089322   0.371335  \n",
       "Sp. Atk          0.523340  0.414562  0.106360         0.155327   0.135491  \n",
       "Sp. Def          1.000000  0.392870  0.295729         0.151291   0.413309  \n",
       "Speed            0.392870  1.000000  0.242372         0.133731   0.128181  \n",
       "Height M         0.295729  0.242372  1.000000        -0.037950   0.590757  \n",
       "Percentage Male  0.151291  0.133731 -0.037950         1.000000   0.093716  \n",
       "Weight Kg        0.413309  0.128181  0.590757         0.093716   1.000000  "
      ]
     },
     "execution_count": 23,
     "metadata": {},
     "output_type": "execute_result"
    }
   ],
   "source": [
    "# Create a copy to not mess up previous dataset\n",
    "generation_df = pokemon_df.copy()\n",
    "\n",
    "# Only allows Pokemon from that generation\n",
    "if gen_slider.value != 7:\n",
    "    generation_df = generation_df[generation_df['Generation'] == gen_slider.value]\n",
    "generation_corr_stats = generation_df[['Name', 'Type 1', 'Type 2', 'Hp', 'Attack', 'Defense', 'Sp. Atk', 'Sp. Def', 'Speed', 'Height M', 'Percentage Male', 'Weight Kg']]\n",
    "generation_corr_stats = generation_corr_stats.set_index('Name')\n",
    "\n",
    "# Encode the string\n",
    "encode_string = LabelEncoder()\n",
    "generation_corr_stats['Type 1'] = encode_string.fit_transform(generation_corr_stats['Type 1'])\n",
    "generation_corr_stats['Type 2'] = encode_string.fit_transform(generation_corr_stats['Type 2'])\n",
    "\n",
    "# Find the correlation matrix\n",
    "generation_corr_fin = generation_corr_stats.corr()\n",
    "\n",
    "generation_corr_fin"
   ]
  },
  {
   "cell_type": "markdown",
   "id": "a9e902d4",
   "metadata": {},
   "source": [
    "Now, we have a data frame that shows how the stats correlate with each other and now we want to visualize it."
   ]
  },
  {
   "cell_type": "code",
   "execution_count": 24,
   "id": "9a6fc701",
   "metadata": {},
   "outputs": [
    {
     "data": {
      "image/png": "[encoded data removed]",
      "text/plain": [
       "<Figure size 1200x1000 with 2 Axes>"
      ]
     },
     "metadata": {},
     "output_type": "display_data"
    }
   ],
   "source": [
    "# Graph it\n",
    "plt.figure(figsize = (12, 10))\n",
    "\n",
    "if gen_slider.value != 7:\n",
    "    plt.title('Correlation between Pokemon from Generation ' + str(gen_slider.value), fontsize = 20, pad = 20)\n",
    "else:\n",
    "    plt.title('Correlation between Pokemon from Generation 1 - 6', fontsize = 20, pad = 20)\n",
    "    \n",
    "sns.heatmap(generation_corr_fin, annot = True, cmap = 'coolwarm', cbar_kws = {'label': 'Correlation'}, linewidths = 0.25, linecolor = 'black')\n",
    "plt.show()"
   ]
  },
  {
   "cell_type": "markdown",
   "id": "1e485e98",
   "metadata": {},
   "source": [
    "What we see is that in the first generation, there was not much correlation with the stats, but over more generations that started to change. The stats started to have more and more correlation. So overall, the first few generations did not have much correlation, but the last few had a lot more. For example, in generation 6 there was a strong correlation between height and weight with a value of 0.78. However, in generation 1 the value was only 0.59.\n",
    "\n",
    "In conclusion, there are correlations between height and weight, special attack and special defense, special defense and defense, weight and attack, and weight and defense."
   ]
  },
  {
   "cell_type": "markdown",
   "id": "02a697d6",
   "metadata": {},
   "source": [
    "# Which Legendary Pokemon are most similar to each other?"
   ]
  },
  {
   "cell_type": "code",
   "execution_count": 25,
   "id": "144974aa",
   "metadata": {},
   "outputs": [],
   "source": [
    "norm = (legendary_df - legendary_df.mean())/ legendary_df.std()\n",
    "euc_dist_matrix = sklearn.metrics.pairwise.euclidean_distances(norm)\n",
    "euc_dist_matrix = pandas.DataFrame(euc_dist_matrix, index = legendary_df.index, columns = legendary_df.index)\n",
    "\n",
    "numpy.fill_diagonal(euc_dist_matrix.values, numpy.NaN)"
   ]
  },
  {
   "cell_type": "markdown",
   "id": "1700413f",
   "metadata": {},
   "source": [
    "Now what if we want to find a Pokemon most similar to a specific Pokemon? We can use the distance matrix that we computed before to see which Pokemon are closest together in. "
   ]
  },
  {
   "cell_type": "code",
   "execution_count": 26,
   "id": "cf1e1e7e",
   "metadata": {},
   "outputs": [
    {
     "data": {
      "text/html": [
       "<div>\n",
       "<style scoped>\n",
       "    .dataframe tbody tr th:only-of-type {\n",
       "        vertical-align: middle;\n",
       "    }\n",
       "\n",
       "    .dataframe tbody tr th {\n",
       "        vertical-align: top;\n",
       "    }\n",
       "\n",
       "    .dataframe thead th {\n",
       "        text-align: right;\n",
       "    }\n",
       "</style>\n",
       "<table border=\"1\" class=\"dataframe\">\n",
       "  <thead>\n",
       "    <tr style=\"text-align: right;\">\n",
       "      <th></th>\n",
       "      <th>Most Similar To</th>\n",
       "    </tr>\n",
       "    <tr>\n",
       "      <th>Name</th>\n",
       "      <th></th>\n",
       "    </tr>\n",
       "  </thead>\n",
       "  <tbody>\n",
       "    <tr>\n",
       "      <th>Articuno</th>\n",
       "      <td>Suicune</td>\n",
       "    </tr>\n",
       "    <tr>\n",
       "      <th>Zapdos</th>\n",
       "      <td>Moltres</td>\n",
       "    </tr>\n",
       "    <tr>\n",
       "      <th>Moltres</th>\n",
       "      <td>Zapdos</td>\n",
       "    </tr>\n",
       "    <tr>\n",
       "      <th>Mewtwo</th>\n",
       "      <td>Palkia</td>\n",
       "    </tr>\n",
       "    <tr>\n",
       "      <th>Raikou</th>\n",
       "      <td>Latios</td>\n",
       "    </tr>\n",
       "  </tbody>\n",
       "</table>\n",
       "</div>"
      ],
      "text/plain": [
       "         Most Similar To\n",
       "Name                    \n",
       "Articuno         Suicune\n",
       "Zapdos           Moltres\n",
       "Moltres           Zapdos\n",
       "Mewtwo            Palkia\n",
       "Raikou            Latios"
      ]
     },
     "execution_count": 26,
     "metadata": {},
     "output_type": "execute_result"
    }
   ],
   "source": [
    "similar = pandas.DataFrame(euc_dist_matrix.idxmin())\n",
    "similar = similar.rename(columns={0: \"Most Similar To\"})\n",
    "similar.head(5)"
   ]
  },
  {
   "cell_type": "markdown",
   "id": "9b7f5826",
   "metadata": {},
   "source": [
    "As we can see, we have found the most similar Pokemon for each legendary displayed in the table. We can use this information to find a similar legendary Pokemon when trading or swapping out during battle.\n",
    "\n",
    "In conclusion, we were able to use a normalized Euclidean distance matrix to find the most similar Pokemon in regards to the five stats we have been working with."
   ]
  },
  {
   "cell_type": "markdown",
   "id": "f41bd11f",
   "metadata": {},
   "source": [
    "## PCA on Legendary Pokemon with Clustering"
   ]
  },
  {
   "cell_type": "markdown",
   "id": "ac9fd6a1",
   "metadata": {},
   "source": [
    "Now we are going to visualize the similarity of legendary Pokemon using PCA and clustering.\n",
    "\n",
    "For this part, we are going to do some dimension reduction on the data using PCA. We can hypothesize that points that are closer together on the PCA are more similar in terms of their stats. We can also see if the plotted points are more linear or non-linear, which tells you if the variables within the data are highly correlated or if there may be more complex relationships between the variables.\n",
    "\n",
    "The first step is to do PCA on the legendary dataset"
   ]
  },
  {
   "cell_type": "code",
   "execution_count": 27,
   "id": "afafe965",
   "metadata": {
    "scrolled": false
   },
   "outputs": [
    {
     "data": {
      "text/html": [
       "<div>\n",
       "<style scoped>\n",
       "    .dataframe tbody tr th:only-of-type {\n",
       "        vertical-align: middle;\n",
       "    }\n",
       "\n",
       "    .dataframe tbody tr th {\n",
       "        vertical-align: top;\n",
       "    }\n",
       "\n",
       "    .dataframe thead th {\n",
       "        text-align: right;\n",
       "    }\n",
       "</style>\n",
       "<table border=\"1\" class=\"dataframe\">\n",
       "  <thead>\n",
       "    <tr style=\"text-align: right;\">\n",
       "      <th></th>\n",
       "      <th>Name</th>\n",
       "      <th>X</th>\n",
       "      <th>Y</th>\n",
       "    </tr>\n",
       "  </thead>\n",
       "  <tbody>\n",
       "    <tr>\n",
       "      <th>0</th>\n",
       "      <td>Arceus</td>\n",
       "      <td>-1.062206</td>\n",
       "      <td>0.940334</td>\n",
       "    </tr>\n",
       "    <tr>\n",
       "      <th>1</th>\n",
       "      <td>Articuno</td>\n",
       "      <td>1.148798</td>\n",
       "      <td>-0.438500</td>\n",
       "    </tr>\n",
       "    <tr>\n",
       "      <th>2</th>\n",
       "      <td>Azelf</td>\n",
       "      <td>-1.664932</td>\n",
       "      <td>-0.792345</td>\n",
       "    </tr>\n",
       "    <tr>\n",
       "      <th>3</th>\n",
       "      <td>Cobalion</td>\n",
       "      <td>0.207121</td>\n",
       "      <td>0.647172</td>\n",
       "    </tr>\n",
       "    <tr>\n",
       "      <th>4</th>\n",
       "      <td>Darkrai</td>\n",
       "      <td>-0.758820</td>\n",
       "      <td>-1.685392</td>\n",
       "    </tr>\n",
       "  </tbody>\n",
       "</table>\n",
       "</div>"
      ],
      "text/plain": [
       "       Name         X         Y\n",
       "0    Arceus -1.062206  0.940334\n",
       "1  Articuno  1.148798 -0.438500\n",
       "2     Azelf -1.664932 -0.792345\n",
       "3  Cobalion  0.207121  0.647172\n",
       "4   Darkrai -0.758820 -1.685392"
      ]
     },
     "execution_count": 27,
     "metadata": {},
     "output_type": "execute_result"
    }
   ],
   "source": [
    "# Now lets find the location of each legendary Pokemon\n",
    "pca = sklearn.decomposition.PCA(n_components = 2, svd_solver = 'full')\n",
    "pca_model_data = pca.fit_transform(legendary_df)\n",
    "pca_df = pandas.DataFrame(pca_model_data, index = legendary_df.index, columns = ['X', 'Y'])\n",
    "pca_df = pca_df.sort_index()\n",
    "pca_df = pca_df.reset_index()\n",
    "\n",
    "pca_df.head(5)"
   ]
  },
  {
   "cell_type": "markdown",
   "id": "c203e32b",
   "metadata": {},
   "source": [
    "Next, we will decide the amount of clusters."
   ]
  },
  {
   "cell_type": "code",
   "execution_count": 28,
   "id": "a3746d5b",
   "metadata": {
    "scrolled": true
   },
   "outputs": [
    {
     "data": {
      "application/vnd.jupyter.widget-view+json": {
       "model_id": "12a8c59322414f9f91dc3adcb6ecb572",
       "version_major": 2,
       "version_minor": 0
      },
      "text/plain": [
       "IntSlider(value=1, description='Clusters:', layout=Layout(width='75%'), max=42, min=1)"
      ]
     },
     "metadata": {},
     "output_type": "display_data"
    }
   ],
   "source": [
    "# Makes a cluster slider\n",
    "cluster_slider = widgets.IntSlider(value = 1, min = 1, max = 42, step = 1, description = 'Clusters:', description_width='auto')\n",
    "cluster_slider.layout.width = '75%'\n",
    "display(cluster_slider)"
   ]
  },
  {
   "cell_type": "markdown",
   "id": "7bb27611",
   "metadata": {},
   "source": [
    "Next, we will conduct Kmeans clustering to obtain our clusters."
   ]
  },
  {
   "cell_type": "code",
   "execution_count": 29,
   "id": "0794208d",
   "metadata": {
    "scrolled": false
   },
   "outputs": [
    {
     "name": "stderr",
     "output_type": "stream",
     "text": [
      "C:\\Python IDE\\lib\\site-packages\\sklearn\\cluster\\_kmeans.py:1036: UserWarning: KMeans is known to have a memory leak on Windows with MKL, when there are less chunks than available threads. You can avoid it by setting the environment variable OMP_NUM_THREADS=1.\n",
      "  warnings.warn(\n"
     ]
    },
    {
     "data": {
      "text/html": [
       "<div>\n",
       "<style scoped>\n",
       "    .dataframe tbody tr th:only-of-type {\n",
       "        vertical-align: middle;\n",
       "    }\n",
       "\n",
       "    .dataframe tbody tr th {\n",
       "        vertical-align: top;\n",
       "    }\n",
       "\n",
       "    .dataframe thead th {\n",
       "        text-align: right;\n",
       "    }\n",
       "</style>\n",
       "<table border=\"1\" class=\"dataframe\">\n",
       "  <thead>\n",
       "    <tr style=\"text-align: right;\">\n",
       "      <th></th>\n",
       "      <th>Hp</th>\n",
       "      <th>Attack</th>\n",
       "      <th>Defense</th>\n",
       "      <th>Sp. Atk</th>\n",
       "      <th>Sp. Def</th>\n",
       "      <th>Speed</th>\n",
       "      <th>Cluster</th>\n",
       "    </tr>\n",
       "    <tr>\n",
       "      <th>Name</th>\n",
       "      <th></th>\n",
       "      <th></th>\n",
       "      <th></th>\n",
       "      <th></th>\n",
       "      <th></th>\n",
       "      <th></th>\n",
       "      <th></th>\n",
       "    </tr>\n",
       "  </thead>\n",
       "  <tbody>\n",
       "    <tr>\n",
       "      <th>Articuno</th>\n",
       "      <td>-0.201465</td>\n",
       "      <td>-0.936662</td>\n",
       "      <td>-0.101975</td>\n",
       "      <td>-0.731643</td>\n",
       "      <td>0.608827</td>\n",
       "      <td>-0.462124</td>\n",
       "      <td>0</td>\n",
       "    </tr>\n",
       "    <tr>\n",
       "      <th>Heatran</th>\n",
       "      <td>-0.139248</td>\n",
       "      <td>-0.729828</td>\n",
       "      <td>0.127468</td>\n",
       "      <td>0.624619</td>\n",
       "      <td>-0.101471</td>\n",
       "      <td>-0.868600</td>\n",
       "      <td>0</td>\n",
       "    </tr>\n",
       "    <tr>\n",
       "      <th>Regigigas</th>\n",
       "      <td>1.042879</td>\n",
       "      <td>2.165847</td>\n",
       "      <td>0.280430</td>\n",
       "      <td>-1.312899</td>\n",
       "      <td>0.048065</td>\n",
       "      <td>0.300018</td>\n",
       "      <td>0</td>\n",
       "    </tr>\n",
       "    <tr>\n",
       "      <th>Darkrai</th>\n",
       "      <td>-1.445810</td>\n",
       "      <td>-0.729828</td>\n",
       "      <td>-0.484380</td>\n",
       "      <td>0.818370</td>\n",
       "      <td>-0.699617</td>\n",
       "      <td>1.570254</td>\n",
       "      <td>0</td>\n",
       "    </tr>\n",
       "    <tr>\n",
       "      <th>Arceus</th>\n",
       "      <td>1.665052</td>\n",
       "      <td>0.511175</td>\n",
       "      <td>0.662835</td>\n",
       "      <td>0.237115</td>\n",
       "      <td>0.421907</td>\n",
       "      <td>1.316207</td>\n",
       "      <td>0</td>\n",
       "    </tr>\n",
       "    <tr>\n",
       "      <th>Victini</th>\n",
       "      <td>0.420707</td>\n",
       "      <td>-0.316160</td>\n",
       "      <td>-0.101975</td>\n",
       "      <td>-0.537892</td>\n",
       "      <td>-0.325776</td>\n",
       "      <td>0.300018</td>\n",
       "      <td>0</td>\n",
       "    </tr>\n",
       "    <tr>\n",
       "      <th>Cobalion</th>\n",
       "      <td>-0.139248</td>\n",
       "      <td>-0.729828</td>\n",
       "      <td>1.007000</td>\n",
       "      <td>-0.925395</td>\n",
       "      <td>-1.372532</td>\n",
       "      <td>0.706493</td>\n",
       "      <td>0</td>\n",
       "    </tr>\n",
       "    <tr>\n",
       "      <th>Terrakion</th>\n",
       "      <td>-0.139248</td>\n",
       "      <td>0.883476</td>\n",
       "      <td>-0.484380</td>\n",
       "      <td>-1.622901</td>\n",
       "      <td>-0.699617</td>\n",
       "      <td>0.706493</td>\n",
       "      <td>0</td>\n",
       "    </tr>\n",
       "    <tr>\n",
       "      <th>Virizion</th>\n",
       "      <td>-0.139248</td>\n",
       "      <td>-0.729828</td>\n",
       "      <td>-1.172709</td>\n",
       "      <td>-0.925395</td>\n",
       "      <td>0.758364</td>\n",
       "      <td>0.706493</td>\n",
       "      <td>0</td>\n",
       "    </tr>\n",
       "    <tr>\n",
       "      <th>Tornadus</th>\n",
       "      <td>-0.885855</td>\n",
       "      <td>-0.316160</td>\n",
       "      <td>-0.866785</td>\n",
       "      <td>-0.150388</td>\n",
       "      <td>-0.699617</td>\n",
       "      <td>1.367016</td>\n",
       "      <td>0</td>\n",
       "    </tr>\n",
       "    <tr>\n",
       "      <th>Thundurus</th>\n",
       "      <td>-0.885855</td>\n",
       "      <td>-0.109327</td>\n",
       "      <td>-1.249190</td>\n",
       "      <td>1.205874</td>\n",
       "      <td>-1.073459</td>\n",
       "      <td>0.350827</td>\n",
       "      <td>0</td>\n",
       "    </tr>\n",
       "    <tr>\n",
       "      <th>Reshiram</th>\n",
       "      <td>0.420707</td>\n",
       "      <td>0.511175</td>\n",
       "      <td>-0.101975</td>\n",
       "      <td>1.399626</td>\n",
       "      <td>0.421907</td>\n",
       "      <td>-0.208077</td>\n",
       "      <td>0</td>\n",
       "    </tr>\n",
       "    <tr>\n",
       "      <th>Zekrom</th>\n",
       "      <td>0.420707</td>\n",
       "      <td>1.752179</td>\n",
       "      <td>0.662835</td>\n",
       "      <td>0.237115</td>\n",
       "      <td>-0.325776</td>\n",
       "      <td>-0.208077</td>\n",
       "      <td>0</td>\n",
       "    </tr>\n",
       "    <tr>\n",
       "      <th>Landorus</th>\n",
       "      <td>-0.263683</td>\n",
       "      <td>1.545345</td>\n",
       "      <td>-0.484380</td>\n",
       "      <td>-0.344140</td>\n",
       "      <td>-1.073459</td>\n",
       "      <td>-0.157267</td>\n",
       "      <td>0</td>\n",
       "    </tr>\n",
       "    <tr>\n",
       "      <th>Kyurem</th>\n",
       "      <td>1.976138</td>\n",
       "      <td>0.924843</td>\n",
       "      <td>-0.484380</td>\n",
       "      <td>0.624619</td>\n",
       "      <td>-0.699617</td>\n",
       "      <td>0.045970</td>\n",
       "      <td>0</td>\n",
       "    </tr>\n",
       "    <tr>\n",
       "      <th>Xerneas</th>\n",
       "      <td>2.038355</td>\n",
       "      <td>0.966210</td>\n",
       "      <td>-0.293177</td>\n",
       "      <td>0.663369</td>\n",
       "      <td>-0.400544</td>\n",
       "      <td>0.249208</td>\n",
       "      <td>0</td>\n",
       "    </tr>\n",
       "    <tr>\n",
       "      <th>Yveltal</th>\n",
       "      <td>2.038355</td>\n",
       "      <td>0.966210</td>\n",
       "      <td>-0.293177</td>\n",
       "      <td>0.663369</td>\n",
       "      <td>-0.400544</td>\n",
       "      <td>0.249208</td>\n",
       "      <td>0</td>\n",
       "    </tr>\n",
       "    <tr>\n",
       "      <th>Diancie</th>\n",
       "      <td>-2.690155</td>\n",
       "      <td>-0.316160</td>\n",
       "      <td>1.810050</td>\n",
       "      <td>-0.537892</td>\n",
       "      <td>1.543430</td>\n",
       "      <td>-2.240455</td>\n",
       "      <td>0</td>\n",
       "    </tr>\n",
       "    <tr>\n",
       "      <th>Palkia</th>\n",
       "      <td>-0.201465</td>\n",
       "      <td>0.511175</td>\n",
       "      <td>-0.101975</td>\n",
       "      <td>1.399626</td>\n",
       "      <td>0.421907</td>\n",
       "      <td>0.300018</td>\n",
       "      <td>0</td>\n",
       "    </tr>\n",
       "    <tr>\n",
       "      <th>Dialga</th>\n",
       "      <td>0.420707</td>\n",
       "      <td>0.511175</td>\n",
       "      <td>0.662835</td>\n",
       "      <td>1.399626</td>\n",
       "      <td>-0.325776</td>\n",
       "      <td>-0.208077</td>\n",
       "      <td>0</td>\n",
       "    </tr>\n",
       "    <tr>\n",
       "      <th>Azelf</th>\n",
       "      <td>-1.134724</td>\n",
       "      <td>0.718009</td>\n",
       "      <td>-1.249190</td>\n",
       "      <td>0.430867</td>\n",
       "      <td>-1.447300</td>\n",
       "      <td>1.062160</td>\n",
       "      <td>0</td>\n",
       "    </tr>\n",
       "    <tr>\n",
       "      <th>Mesprit</th>\n",
       "      <td>-0.823638</td>\n",
       "      <td>-0.109327</td>\n",
       "      <td>0.089228</td>\n",
       "      <td>-0.344140</td>\n",
       "      <td>-0.138855</td>\n",
       "      <td>-0.716171</td>\n",
       "      <td>0</td>\n",
       "    </tr>\n",
       "    <tr>\n",
       "      <th>Zapdos</th>\n",
       "      <td>-0.201465</td>\n",
       "      <td>-0.729828</td>\n",
       "      <td>-0.675582</td>\n",
       "      <td>0.430867</td>\n",
       "      <td>-0.699617</td>\n",
       "      <td>0.300018</td>\n",
       "      <td>0</td>\n",
       "    </tr>\n",
       "    <tr>\n",
       "      <th>Moltres</th>\n",
       "      <td>-0.201465</td>\n",
       "      <td>-0.316160</td>\n",
       "      <td>-0.484380</td>\n",
       "      <td>0.430867</td>\n",
       "      <td>-0.886538</td>\n",
       "      <td>-0.208077</td>\n",
       "      <td>0</td>\n",
       "    </tr>\n",
       "    <tr>\n",
       "      <th>Mewtwo</th>\n",
       "      <td>0.794011</td>\n",
       "      <td>0.097507</td>\n",
       "      <td>-0.484380</td>\n",
       "      <td>1.554627</td>\n",
       "      <td>-0.699617</td>\n",
       "      <td>1.824301</td>\n",
       "      <td>0</td>\n",
       "    </tr>\n",
       "    <tr>\n",
       "      <th>Raikou</th>\n",
       "      <td>-0.201465</td>\n",
       "      <td>-0.936662</td>\n",
       "      <td>-1.057987</td>\n",
       "      <td>0.043363</td>\n",
       "      <td>-0.325776</td>\n",
       "      <td>1.062160</td>\n",
       "      <td>0</td>\n",
       "    </tr>\n",
       "    <tr>\n",
       "      <th>Entei</th>\n",
       "      <td>1.353966</td>\n",
       "      <td>0.304341</td>\n",
       "      <td>-0.675582</td>\n",
       "      <td>-0.925395</td>\n",
       "      <td>-1.260379</td>\n",
       "      <td>0.300018</td>\n",
       "      <td>0</td>\n",
       "    </tr>\n",
       "    <tr>\n",
       "      <th>Suicune</th>\n",
       "      <td>0.420707</td>\n",
       "      <td>-1.350330</td>\n",
       "      <td>0.471633</td>\n",
       "      <td>-0.925395</td>\n",
       "      <td>0.234986</td>\n",
       "      <td>-0.462124</td>\n",
       "      <td>0</td>\n",
       "    </tr>\n",
       "    <tr>\n",
       "      <th>Lugia</th>\n",
       "      <td>0.794011</td>\n",
       "      <td>-0.729828</td>\n",
       "      <td>1.045240</td>\n",
       "      <td>-0.925395</td>\n",
       "      <td>1.692967</td>\n",
       "      <td>0.808112</td>\n",
       "      <td>0</td>\n",
       "    </tr>\n",
       "    <tr>\n",
       "      <th>Ho-Oh</th>\n",
       "      <td>0.794011</td>\n",
       "      <td>0.924843</td>\n",
       "      <td>-0.484380</td>\n",
       "      <td>-0.150388</td>\n",
       "      <td>1.692967</td>\n",
       "      <td>-0.208077</td>\n",
       "      <td>0</td>\n",
       "    </tr>\n",
       "    <tr>\n",
       "      <th>Hoopa</th>\n",
       "      <td>-0.823638</td>\n",
       "      <td>0.097507</td>\n",
       "      <td>-1.631595</td>\n",
       "      <td>1.399626</td>\n",
       "      <td>0.795748</td>\n",
       "      <td>-1.224266</td>\n",
       "      <td>0</td>\n",
       "    </tr>\n",
       "    <tr>\n",
       "      <th>Regirock</th>\n",
       "      <td>-0.823638</td>\n",
       "      <td>-0.316160</td>\n",
       "      <td>3.722075</td>\n",
       "      <td>-2.475409</td>\n",
       "      <td>-0.325776</td>\n",
       "      <td>-2.240455</td>\n",
       "      <td>0</td>\n",
       "    </tr>\n",
       "    <tr>\n",
       "      <th>Registeel</th>\n",
       "      <td>-0.823638</td>\n",
       "      <td>-1.350330</td>\n",
       "      <td>1.810050</td>\n",
       "      <td>-1.506650</td>\n",
       "      <td>1.543430</td>\n",
       "      <td>-2.240455</td>\n",
       "      <td>0</td>\n",
       "    </tr>\n",
       "    <tr>\n",
       "      <th>Latias</th>\n",
       "      <td>-0.823638</td>\n",
       "      <td>-1.143496</td>\n",
       "      <td>-0.484380</td>\n",
       "      <td>-0.150388</td>\n",
       "      <td>0.795748</td>\n",
       "      <td>0.808112</td>\n",
       "      <td>0</td>\n",
       "    </tr>\n",
       "    <tr>\n",
       "      <th>Latios</th>\n",
       "      <td>-0.823638</td>\n",
       "      <td>-0.729828</td>\n",
       "      <td>-0.866785</td>\n",
       "      <td>0.624619</td>\n",
       "      <td>0.048065</td>\n",
       "      <td>0.808112</td>\n",
       "      <td>0</td>\n",
       "    </tr>\n",
       "    <tr>\n",
       "      <th>Kyogre</th>\n",
       "      <td>0.420707</td>\n",
       "      <td>-0.316160</td>\n",
       "      <td>-0.484380</td>\n",
       "      <td>1.399626</td>\n",
       "      <td>1.169589</td>\n",
       "      <td>-0.208077</td>\n",
       "      <td>0</td>\n",
       "    </tr>\n",
       "    <tr>\n",
       "      <th>Groudon</th>\n",
       "      <td>0.420707</td>\n",
       "      <td>1.752179</td>\n",
       "      <td>1.427645</td>\n",
       "      <td>-0.537892</td>\n",
       "      <td>-0.699617</td>\n",
       "      <td>-0.208077</td>\n",
       "      <td>0</td>\n",
       "    </tr>\n",
       "    <tr>\n",
       "      <th>Rayquaza</th>\n",
       "      <td>0.731793</td>\n",
       "      <td>1.752179</td>\n",
       "      <td>-0.484380</td>\n",
       "      <td>1.399626</td>\n",
       "      <td>-0.699617</td>\n",
       "      <td>0.045970</td>\n",
       "      <td>0</td>\n",
       "    </tr>\n",
       "    <tr>\n",
       "      <th>Jirachi</th>\n",
       "      <td>0.420707</td>\n",
       "      <td>-0.316160</td>\n",
       "      <td>-0.101975</td>\n",
       "      <td>-0.537892</td>\n",
       "      <td>-0.325776</td>\n",
       "      <td>0.300018</td>\n",
       "      <td>0</td>\n",
       "    </tr>\n",
       "    <tr>\n",
       "      <th>Uxie</th>\n",
       "      <td>-1.134724</td>\n",
       "      <td>-1.350330</td>\n",
       "      <td>1.045240</td>\n",
       "      <td>-1.506650</td>\n",
       "      <td>0.795748</td>\n",
       "      <td>0.045970</td>\n",
       "      <td>0</td>\n",
       "    </tr>\n",
       "    <tr>\n",
       "      <th>Regice</th>\n",
       "      <td>-0.823638</td>\n",
       "      <td>-2.384500</td>\n",
       "      <td>-0.101975</td>\n",
       "      <td>-0.537892</td>\n",
       "      <td>3.412637</td>\n",
       "      <td>-2.240455</td>\n",
       "      <td>0</td>\n",
       "    </tr>\n",
       "    <tr>\n",
       "      <th>Volcanion</th>\n",
       "      <td>-0.823638</td>\n",
       "      <td>0.097507</td>\n",
       "      <td>0.662835</td>\n",
       "      <td>0.624619</td>\n",
       "      <td>-0.699617</td>\n",
       "      <td>-1.224266</td>\n",
       "      <td>0</td>\n",
       "    </tr>\n",
       "  </tbody>\n",
       "</table>\n",
       "</div>"
      ],
      "text/plain": [
       "                 Hp    Attack   Defense   Sp. Atk   Sp. Def     Speed  Cluster\n",
       "Name                                                                          \n",
       "Articuno  -0.201465 -0.936662 -0.101975 -0.731643  0.608827 -0.462124        0\n",
       "Heatran   -0.139248 -0.729828  0.127468  0.624619 -0.101471 -0.868600        0\n",
       "Regigigas  1.042879  2.165847  0.280430 -1.312899  0.048065  0.300018        0\n",
       "Darkrai   -1.445810 -0.729828 -0.484380  0.818370 -0.699617  1.570254        0\n",
       "Arceus     1.665052  0.511175  0.662835  0.237115  0.421907  1.316207        0\n",
       "Victini    0.420707 -0.316160 -0.101975 -0.537892 -0.325776  0.300018        0\n",
       "Cobalion  -0.139248 -0.729828  1.007000 -0.925395 -1.372532  0.706493        0\n",
       "Terrakion -0.139248  0.883476 -0.484380 -1.622901 -0.699617  0.706493        0\n",
       "Virizion  -0.139248 -0.729828 -1.172709 -0.925395  0.758364  0.706493        0\n",
       "Tornadus  -0.885855 -0.316160 -0.866785 -0.150388 -0.699617  1.367016        0\n",
       "Thundurus -0.885855 -0.109327 -1.249190  1.205874 -1.073459  0.350827        0\n",
       "Reshiram   0.420707  0.511175 -0.101975  1.399626  0.421907 -0.208077        0\n",
       "Zekrom     0.420707  1.752179  0.662835  0.237115 -0.325776 -0.208077        0\n",
       "Landorus  -0.263683  1.545345 -0.484380 -0.344140 -1.073459 -0.157267        0\n",
       "Kyurem     1.976138  0.924843 -0.484380  0.624619 -0.699617  0.045970        0\n",
       "Xerneas    2.038355  0.966210 -0.293177  0.663369 -0.400544  0.249208        0\n",
       "Yveltal    2.038355  0.966210 -0.293177  0.663369 -0.400544  0.249208        0\n",
       "Diancie   -2.690155 -0.316160  1.810050 -0.537892  1.543430 -2.240455        0\n",
       "Palkia    -0.201465  0.511175 -0.101975  1.399626  0.421907  0.300018        0\n",
       "Dialga     0.420707  0.511175  0.662835  1.399626 -0.325776 -0.208077        0\n",
       "Azelf     -1.134724  0.718009 -1.249190  0.430867 -1.447300  1.062160        0\n",
       "Mesprit   -0.823638 -0.109327  0.089228 -0.344140 -0.138855 -0.716171        0\n",
       "Zapdos    -0.201465 -0.729828 -0.675582  0.430867 -0.699617  0.300018        0\n",
       "Moltres   -0.201465 -0.316160 -0.484380  0.430867 -0.886538 -0.208077        0\n",
       "Mewtwo     0.794011  0.097507 -0.484380  1.554627 -0.699617  1.824301        0\n",
       "Raikou    -0.201465 -0.936662 -1.057987  0.043363 -0.325776  1.062160        0\n",
       "Entei      1.353966  0.304341 -0.675582 -0.925395 -1.260379  0.300018        0\n",
       "Suicune    0.420707 -1.350330  0.471633 -0.925395  0.234986 -0.462124        0\n",
       "Lugia      0.794011 -0.729828  1.045240 -0.925395  1.692967  0.808112        0\n",
       "Ho-Oh      0.794011  0.924843 -0.484380 -0.150388  1.692967 -0.208077        0\n",
       "Hoopa     -0.823638  0.097507 -1.631595  1.399626  0.795748 -1.224266        0\n",
       "Regirock  -0.823638 -0.316160  3.722075 -2.475409 -0.325776 -2.240455        0\n",
       "Registeel -0.823638 -1.350330  1.810050 -1.506650  1.543430 -2.240455        0\n",
       "Latias    -0.823638 -1.143496 -0.484380 -0.150388  0.795748  0.808112        0\n",
       "Latios    -0.823638 -0.729828 -0.866785  0.624619  0.048065  0.808112        0\n",
       "Kyogre     0.420707 -0.316160 -0.484380  1.399626  1.169589 -0.208077        0\n",
       "Groudon    0.420707  1.752179  1.427645 -0.537892 -0.699617 -0.208077        0\n",
       "Rayquaza   0.731793  1.752179 -0.484380  1.399626 -0.699617  0.045970        0\n",
       "Jirachi    0.420707 -0.316160 -0.101975 -0.537892 -0.325776  0.300018        0\n",
       "Uxie      -1.134724 -1.350330  1.045240 -1.506650  0.795748  0.045970        0\n",
       "Regice    -0.823638 -2.384500 -0.101975 -0.537892  3.412637 -2.240455        0\n",
       "Volcanion -0.823638  0.097507  0.662835  0.624619 -0.699617 -1.224266        0"
      ]
     },
     "execution_count": 29,
     "metadata": {},
     "output_type": "execute_result"
    }
   ],
   "source": [
    "kmeans = sklearn.cluster.KMeans(n_clusters = cluster_slider.value, n_init = 1, max_iter=10)\n",
    "labels = kmeans.fit_predict(legendary_df)\n",
    "labels_DataFrame = pandas.DataFrame(labels, index=legendary_df.index, columns=['Cluster']).sort_values('Cluster')\n",
    "legendary_df_w_clusters = legendary_df.join(labels_DataFrame).sort_values('Cluster')\n",
    "legendary_df_w_clusters"
   ]
  },
  {
   "cell_type": "markdown",
   "id": "dea11b93",
   "metadata": {},
   "source": [
    "Now, we will determine the size and max distance of each cluster to aid us in rendering our visualization."
   ]
  },
  {
   "cell_type": "code",
   "execution_count": 30,
   "id": "d33811c8",
   "metadata": {
    "scrolled": true
   },
   "outputs": [
    {
     "data": {
      "text/html": [
       "<div>\n",
       "<style scoped>\n",
       "    .dataframe tbody tr th:only-of-type {\n",
       "        vertical-align: middle;\n",
       "    }\n",
       "\n",
       "    .dataframe tbody tr th {\n",
       "        vertical-align: top;\n",
       "    }\n",
       "\n",
       "    .dataframe thead th {\n",
       "        text-align: right;\n",
       "    }\n",
       "</style>\n",
       "<table border=\"1\" class=\"dataframe\">\n",
       "  <thead>\n",
       "    <tr style=\"text-align: right;\">\n",
       "      <th></th>\n",
       "      <th>Cluster</th>\n",
       "      <th>Size</th>\n",
       "      <th>MaxDistance</th>\n",
       "    </tr>\n",
       "  </thead>\n",
       "  <tbody>\n",
       "    <tr>\n",
       "      <th>0</th>\n",
       "      <td>0</td>\n",
       "      <td>42</td>\n",
       "      <td>7.306529</td>\n",
       "    </tr>\n",
       "  </tbody>\n",
       "</table>\n",
       "</div>"
      ],
      "text/plain": [
       "   Cluster  Size  MaxDistance\n",
       "0        0    42     7.306529"
      ]
     },
     "execution_count": 30,
     "metadata": {},
     "output_type": "execute_result"
    }
   ],
   "source": [
    "clusters = sorted(list(set(labels)))\n",
    "sizes = []\n",
    "max_distances = []\n",
    "for i in clusters:\n",
    "    cur_cluster = legendary_df.join(labels_DataFrame)\n",
    "    cur_cluster = cur_cluster[ cur_cluster['Cluster'] == i ]\n",
    "    cur_cluster.iloc[:, :-1]\n",
    "    sizes.append(cur_cluster.shape[0])\n",
    "    max_distances.append(sklearn.metrics.pairwise.euclidean_distances(cur_cluster.iloc[:, :-1]).max())\n",
    "    \n",
    "clusters_df = pandas.DataFrame({'Cluster': clusters, 'Size': sizes, 'MaxDistance': max_distances})\n",
    "clusters_df"
   ]
  },
  {
   "cell_type": "markdown",
   "id": "c019fd58",
   "metadata": {},
   "source": [
    "Now, we will obtain the x and y coordinates for each cluster."
   ]
  },
  {
   "cell_type": "code",
   "execution_count": 31,
   "id": "152796d1",
   "metadata": {
    "scrolled": false
   },
   "outputs": [
    {
     "name": "stderr",
     "output_type": "stream",
     "text": [
      "C:\\Python IDE\\lib\\site-packages\\sklearn\\base.py:450: UserWarning: X does not have valid feature names, but PCA was fitted with feature names\n",
      "  warnings.warn(\n"
     ]
    },
    {
     "data": {
      "text/html": [
       "<div>\n",
       "<style scoped>\n",
       "    .dataframe tbody tr th:only-of-type {\n",
       "        vertical-align: middle;\n",
       "    }\n",
       "\n",
       "    .dataframe tbody tr th {\n",
       "        vertical-align: top;\n",
       "    }\n",
       "\n",
       "    .dataframe thead th {\n",
       "        text-align: right;\n",
       "    }\n",
       "</style>\n",
       "<table border=\"1\" class=\"dataframe\">\n",
       "  <thead>\n",
       "    <tr style=\"text-align: right;\">\n",
       "      <th></th>\n",
       "      <th>X</th>\n",
       "      <th>Y</th>\n",
       "    </tr>\n",
       "  </thead>\n",
       "  <tbody>\n",
       "    <tr>\n",
       "      <th>0</th>\n",
       "      <td>-1.250565e-17</td>\n",
       "      <td>2.818902e-17</td>\n",
       "    </tr>\n",
       "  </tbody>\n",
       "</table>\n",
       "</div>"
      ],
      "text/plain": [
       "              X             Y\n",
       "0 -1.250565e-17  2.818902e-17"
      ]
     },
     "execution_count": 31,
     "metadata": {},
     "output_type": "execute_result"
    }
   ],
   "source": [
    "tablePCA = pca.transform(kmeans.cluster_centers_)\n",
    "tablePCA = pandas.DataFrame(tablePCA)\n",
    "tablePCA.columns = ['X', 'Y']\n",
    "tablePCA"
   ]
  },
  {
   "cell_type": "markdown",
   "id": "a062a17c",
   "metadata": {},
   "source": [
    "Next, we are ready to display our Pokemon in 2D with clusters, which aim to capture subgroups within the dataset."
   ]
  },
  {
   "cell_type": "code",
   "execution_count": 32,
   "id": "e7298380",
   "metadata": {},
   "outputs": [
    {
     "name": "stderr",
     "output_type": "stream",
     "text": [
      "C:\\Python IDE\\lib\\site-packages\\pandas\\plotting\\_matplotlib\\core.py:1114: UserWarning: No data for colormapping provided via 'c'. Parameters 'cmap' will be ignored\n",
      "  scatter = ax.scatter(\n"
     ]
    },
    {
     "data": {
      "text/plain": [
       "Text(0.5, 1.0, 'PCA Dimension Reduction to show Similarity')"
      ]
     },
     "execution_count": 32,
     "metadata": {},
     "output_type": "execute_result"
    },
    {
     "data": {
      "image/png": "[encoded data removed]",
      "text/plain": [
       "<Figure size 2000x2000 with 2 Axes>"
      ]
     },
     "metadata": {},
     "output_type": "display_data"
    }
   ],
   "source": [
    "combined = clusters_df.join(tablePCA)\n",
    "combined\n",
    "combined['Size'] = combined['Size'].map(lambda s: 10000*s)\n",
    "ax = combined.plot.scatter('X', 'Y', figsize=(20,20), c='Cluster', s=combined['Size'], alpha=0.5, colormap=plt.cm.rainbow)\n",
    "\n",
    "\n",
    "pca_df.plot.scatter('X', 'Y', figsize=(20,20), s=100, ax=ax)\n",
    "for i,r in pca_df.iterrows():\n",
    "    ax.text(r['X'], r['Y'], pca_df.loc[i, 'Name'])\n",
    "    \n",
    "# Labels for the scatter plot\n",
    "ax.set_xlabel('X-coordinate')\n",
    "ax.set_ylabel('Y-coordinate')\n",
    "ax.set_title('PCA Dimension Reduction to show Similarity')"
   ]
  },
  {
   "cell_type": "markdown",
   "id": "996175ee",
   "metadata": {},
   "source": [
    "In conclusion, through the addition of clustering, we can group legendary Pokemon with similar attributes and visualize their similarity with the clusters. For example some of the most similar legendary Pokemon being Reshiram, Palkia, and Dialga."
   ]
  }
 ],
 "metadata": {
  "kernelspec": {
   "display_name": "Python 3 (ipykernel)",
   "language": "python",
   "name": "python3"
  },
  "language_info": {
   "codemirror_mode": {
    "name": "ipython",
    "version": 3
   },
   "file_extension": ".py",
   "mimetype": "text/x-python",
   "name": "python",
   "nbconvert_exporter": "python",
   "pygments_lexer": "ipython3",
   "version": "3.8.16"
  }
 },
 "nbformat": 4,
 "nbformat_minor": 5
}
